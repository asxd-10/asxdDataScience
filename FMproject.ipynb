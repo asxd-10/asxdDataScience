{
 "cells": [
  {
   "cell_type": "markdown",
   "metadata": {},
   "source": [
    "# Predicting the position of player in Football Manager 2020"
   ]
  },
  {
   "cell_type": "markdown",
   "metadata": {},
   "source": [
    "## Importing the required libraries and Loading Dataset"
   ]
  },
  {
   "cell_type": "code",
   "execution_count": 1,
   "metadata": {},
   "outputs": [],
   "source": [
    "import pandas as pd\n",
    "import numpy as np\n",
    "import matplotlib.pyplot as plt\n",
    "import seaborn as sns\n",
    "from sklearn.linear_model import LinearRegression\n",
    "from sklearn.model_selection import train_test_split\n",
    "from sklearn.metrics import r2_score, mean_squared_error\n",
    "\n",
    "#Random Forest\n",
    "from sklearn.ensemble import RandomForestRegressor"
   ]
  },
  {
   "cell_type": "code",
   "execution_count": 2,
   "metadata": {},
   "outputs": [],
   "source": [
    "df = pd.read_csv(r'C:\\Users\\Nilay\\Desktop\\Ashay\\dataset.csv')"
   ]
  },
  {
   "cell_type": "markdown",
   "metadata": {},
   "source": [
    "## Understanding the data"
   ]
  },
  {
   "cell_type": "code",
   "execution_count": 3,
   "metadata": {},
   "outputs": [
    {
     "data": {
      "text/html": [
       "<div>\n",
       "<style scoped>\n",
       "    .dataframe tbody tr th:only-of-type {\n",
       "        vertical-align: middle;\n",
       "    }\n",
       "\n",
       "    .dataframe tbody tr th {\n",
       "        vertical-align: top;\n",
       "    }\n",
       "\n",
       "    .dataframe thead th {\n",
       "        text-align: right;\n",
       "    }\n",
       "</style>\n",
       "<table border=\"1\" class=\"dataframe\">\n",
       "  <thead>\n",
       "    <tr style=\"text-align: right;\">\n",
       "      <th></th>\n",
       "      <th>UID</th>\n",
       "      <th>Name</th>\n",
       "      <th>NationID</th>\n",
       "      <th>Born</th>\n",
       "      <th>Age</th>\n",
       "      <th>IntCaps</th>\n",
       "      <th>IntGoals</th>\n",
       "      <th>U21Caps</th>\n",
       "      <th>U21Goals</th>\n",
       "      <th>Height</th>\n",
       "      <th>...</th>\n",
       "      <th>AttackingMidRight</th>\n",
       "      <th>DefenderCentral</th>\n",
       "      <th>DefenderLeft</th>\n",
       "      <th>DefenderRight</th>\n",
       "      <th>DefensiveMidfielder</th>\n",
       "      <th>MidfielderCentral</th>\n",
       "      <th>MidfielderLeft</th>\n",
       "      <th>MidfielderRight</th>\n",
       "      <th>WingBackLeft</th>\n",
       "      <th>WingBackRight</th>\n",
       "    </tr>\n",
       "  </thead>\n",
       "  <tbody>\n",
       "    <tr>\n",
       "      <th>0</th>\n",
       "      <td>1000055</td>\n",
       "      <td>Wilfred Bamnjo</td>\n",
       "      <td>11</td>\n",
       "      <td>27/03/1980</td>\n",
       "      <td>36</td>\n",
       "      <td>0</td>\n",
       "      <td>0</td>\n",
       "      <td>0</td>\n",
       "      <td>0</td>\n",
       "      <td>178</td>\n",
       "      <td>...</td>\n",
       "      <td>1</td>\n",
       "      <td>1</td>\n",
       "      <td>1</td>\n",
       "      <td>1</td>\n",
       "      <td>20</td>\n",
       "      <td>11</td>\n",
       "      <td>1</td>\n",
       "      <td>1</td>\n",
       "      <td>1</td>\n",
       "      <td>1</td>\n",
       "    </tr>\n",
       "    <tr>\n",
       "      <th>1</th>\n",
       "      <td>1000331</td>\n",
       "      <td>Wang Wei</td>\n",
       "      <td>110</td>\n",
       "      <td>20/02/1982</td>\n",
       "      <td>34</td>\n",
       "      <td>0</td>\n",
       "      <td>0</td>\n",
       "      <td>0</td>\n",
       "      <td>0</td>\n",
       "      <td>188</td>\n",
       "      <td>...</td>\n",
       "      <td>1</td>\n",
       "      <td>1</td>\n",
       "      <td>1</td>\n",
       "      <td>1</td>\n",
       "      <td>1</td>\n",
       "      <td>1</td>\n",
       "      <td>1</td>\n",
       "      <td>1</td>\n",
       "      <td>1</td>\n",
       "      <td>1</td>\n",
       "    </tr>\n",
       "    <tr>\n",
       "      <th>2</th>\n",
       "      <td>1000334</td>\n",
       "      <td>Liu Yang</td>\n",
       "      <td>110</td>\n",
       "      <td>11/04/1982</td>\n",
       "      <td>34</td>\n",
       "      <td>0</td>\n",
       "      <td>0</td>\n",
       "      <td>0</td>\n",
       "      <td>0</td>\n",
       "      <td>183</td>\n",
       "      <td>...</td>\n",
       "      <td>1</td>\n",
       "      <td>1</td>\n",
       "      <td>1</td>\n",
       "      <td>1</td>\n",
       "      <td>20</td>\n",
       "      <td>1</td>\n",
       "      <td>1</td>\n",
       "      <td>1</td>\n",
       "      <td>1</td>\n",
       "      <td>1</td>\n",
       "    </tr>\n",
       "    <tr>\n",
       "      <th>3</th>\n",
       "      <td>1000337</td>\n",
       "      <td>Song Qi</td>\n",
       "      <td>110</td>\n",
       "      <td>07/04/1985</td>\n",
       "      <td>31</td>\n",
       "      <td>0</td>\n",
       "      <td>0</td>\n",
       "      <td>0</td>\n",
       "      <td>0</td>\n",
       "      <td>170</td>\n",
       "      <td>...</td>\n",
       "      <td>1</td>\n",
       "      <td>1</td>\n",
       "      <td>1</td>\n",
       "      <td>1</td>\n",
       "      <td>1</td>\n",
       "      <td>1</td>\n",
       "      <td>1</td>\n",
       "      <td>1</td>\n",
       "      <td>1</td>\n",
       "      <td>1</td>\n",
       "    </tr>\n",
       "    <tr>\n",
       "      <th>4</th>\n",
       "      <td>1000340</td>\n",
       "      <td>Chen Lei</td>\n",
       "      <td>110</td>\n",
       "      <td>20/01/1983</td>\n",
       "      <td>33</td>\n",
       "      <td>0</td>\n",
       "      <td>0</td>\n",
       "      <td>0</td>\n",
       "      <td>0</td>\n",
       "      <td>181</td>\n",
       "      <td>...</td>\n",
       "      <td>1</td>\n",
       "      <td>1</td>\n",
       "      <td>1</td>\n",
       "      <td>1</td>\n",
       "      <td>1</td>\n",
       "      <td>1</td>\n",
       "      <td>1</td>\n",
       "      <td>1</td>\n",
       "      <td>1</td>\n",
       "      <td>1</td>\n",
       "    </tr>\n",
       "  </tbody>\n",
       "</table>\n",
       "<p>5 rows × 89 columns</p>\n",
       "</div>"
      ],
      "text/plain": [
       "       UID            Name  NationID        Born  Age  IntCaps  IntGoals  \\\n",
       "0  1000055  Wilfred Bamnjo        11  27/03/1980   36        0         0   \n",
       "1  1000331        Wang Wei       110  20/02/1982   34        0         0   \n",
       "2  1000334        Liu Yang       110  11/04/1982   34        0         0   \n",
       "3  1000337         Song Qi       110  07/04/1985   31        0         0   \n",
       "4  1000340        Chen Lei       110  20/01/1983   33        0         0   \n",
       "\n",
       "   U21Caps  U21Goals  Height  ...  AttackingMidRight  DefenderCentral  \\\n",
       "0        0         0     178  ...                  1                1   \n",
       "1        0         0     188  ...                  1                1   \n",
       "2        0         0     183  ...                  1                1   \n",
       "3        0         0     170  ...                  1                1   \n",
       "4        0         0     181  ...                  1                1   \n",
       "\n",
       "   DefenderLeft  DefenderRight  DefensiveMidfielder  MidfielderCentral  \\\n",
       "0             1              1                   20                 11   \n",
       "1             1              1                    1                  1   \n",
       "2             1              1                   20                  1   \n",
       "3             1              1                    1                  1   \n",
       "4             1              1                    1                  1   \n",
       "\n",
       "   MidfielderLeft  MidfielderRight  WingBackLeft  WingBackRight  \n",
       "0               1                1             1              1  \n",
       "1               1                1             1              1  \n",
       "2               1                1             1              1  \n",
       "3               1                1             1              1  \n",
       "4               1                1             1              1  \n",
       "\n",
       "[5 rows x 89 columns]"
      ]
     },
     "execution_count": 3,
     "metadata": {},
     "output_type": "execute_result"
    }
   ],
   "source": [
    "df.head()"
   ]
  },
  {
   "cell_type": "code",
   "execution_count": 4,
   "metadata": {},
   "outputs": [
    {
     "data": {
      "text/plain": [
       "(159541, 89)"
      ]
     },
     "execution_count": 4,
     "metadata": {},
     "output_type": "execute_result"
    }
   ],
   "source": [
    "df.shape"
   ]
  },
  {
   "cell_type": "code",
   "execution_count": 5,
   "metadata": {},
   "outputs": [
    {
     "data": {
      "text/plain": [
       "Index(['UID', 'Name', 'NationID', 'Born', 'Age', 'IntCaps', 'IntGoals',\n",
       "       'U21Caps', 'U21Goals', 'Height', 'Weight', 'AerialAbility',\n",
       "       'CommandOfArea', 'Communication', 'Eccentricity', 'Handling', 'Kicking',\n",
       "       'OneOnOnes', 'Reflexes', 'RushingOut', 'TendencyToPunch', 'Throwing',\n",
       "       'Corners', 'Crossing', 'Dribbling', 'Finishing', 'FirstTouch',\n",
       "       'Freekicks', 'Heading', 'LongShots', 'Longthrows', 'Marking', 'Passing',\n",
       "       'PenaltyTaking', 'Tackling', 'Technique', 'Aggression', 'Anticipation',\n",
       "       'Bravery', 'Composure', 'Concentration', 'Vision', 'Decisions',\n",
       "       'Determination', 'Flair', 'Leadership', 'OffTheBall', 'Positioning',\n",
       "       'Teamwork', 'Workrate', 'Acceleration', 'Agility', 'Balance', 'Jumping',\n",
       "       'LeftFoot', 'NaturalFitness', 'Pace', 'RightFoot', 'Stamina',\n",
       "       'Strength', 'Consistency', 'Dirtiness', 'ImportantMatches',\n",
       "       'InjuryProness', 'Versatility', 'Adaptability', 'Ambition', 'Loyalty',\n",
       "       'Pressure', 'Professional', 'Sportsmanship', 'Temperament',\n",
       "       'Controversy', 'PositionsDesc', 'Goalkeeper', 'Sweeper', 'Striker',\n",
       "       'AttackingMidCentral', 'AttackingMidLeft', 'AttackingMidRight',\n",
       "       'DefenderCentral', 'DefenderLeft', 'DefenderRight',\n",
       "       'DefensiveMidfielder', 'MidfielderCentral', 'MidfielderLeft',\n",
       "       'MidfielderRight', 'WingBackLeft', 'WingBackRight'],\n",
       "      dtype='object')"
      ]
     },
     "execution_count": 5,
     "metadata": {},
     "output_type": "execute_result"
    }
   ],
   "source": [
    "df.columns"
   ]
  },
  {
   "cell_type": "code",
   "execution_count": 6,
   "metadata": {},
   "outputs": [
    {
     "data": {
      "text/html": [
       "<div>\n",
       "<style scoped>\n",
       "    .dataframe tbody tr th:only-of-type {\n",
       "        vertical-align: middle;\n",
       "    }\n",
       "\n",
       "    .dataframe tbody tr th {\n",
       "        vertical-align: top;\n",
       "    }\n",
       "\n",
       "    .dataframe thead th {\n",
       "        text-align: right;\n",
       "    }\n",
       "</style>\n",
       "<table border=\"1\" class=\"dataframe\">\n",
       "  <thead>\n",
       "    <tr style=\"text-align: right;\">\n",
       "      <th></th>\n",
       "      <th>UID</th>\n",
       "      <th>NationID</th>\n",
       "      <th>Age</th>\n",
       "      <th>IntCaps</th>\n",
       "      <th>IntGoals</th>\n",
       "      <th>U21Caps</th>\n",
       "      <th>U21Goals</th>\n",
       "      <th>Height</th>\n",
       "      <th>Weight</th>\n",
       "      <th>AerialAbility</th>\n",
       "      <th>...</th>\n",
       "      <th>AttackingMidRight</th>\n",
       "      <th>DefenderCentral</th>\n",
       "      <th>DefenderLeft</th>\n",
       "      <th>DefenderRight</th>\n",
       "      <th>DefensiveMidfielder</th>\n",
       "      <th>MidfielderCentral</th>\n",
       "      <th>MidfielderLeft</th>\n",
       "      <th>MidfielderRight</th>\n",
       "      <th>WingBackLeft</th>\n",
       "      <th>WingBackRight</th>\n",
       "    </tr>\n",
       "  </thead>\n",
       "  <tbody>\n",
       "    <tr>\n",
       "      <th>count</th>\n",
       "      <td>1.595410e+05</td>\n",
       "      <td>1.595410e+05</td>\n",
       "      <td>159541.000000</td>\n",
       "      <td>159541.000000</td>\n",
       "      <td>159541.000000</td>\n",
       "      <td>159541.000000</td>\n",
       "      <td>159541.000000</td>\n",
       "      <td>159541.000000</td>\n",
       "      <td>159541.000000</td>\n",
       "      <td>159541.000000</td>\n",
       "      <td>...</td>\n",
       "      <td>159541.000000</td>\n",
       "      <td>159541.000000</td>\n",
       "      <td>159541.000000</td>\n",
       "      <td>159541.000000</td>\n",
       "      <td>159541.000000</td>\n",
       "      <td>159541.000000</td>\n",
       "      <td>159541.000000</td>\n",
       "      <td>159541.000000</td>\n",
       "      <td>159541.000000</td>\n",
       "      <td>159541.000000</td>\n",
       "    </tr>\n",
       "    <tr>\n",
       "      <th>mean</th>\n",
       "      <td>1.368157e+08</td>\n",
       "      <td>7.621294e+04</td>\n",
       "      <td>23.578033</td>\n",
       "      <td>0.988987</td>\n",
       "      <td>0.108148</td>\n",
       "      <td>0.507424</td>\n",
       "      <td>0.065883</td>\n",
       "      <td>180.025097</td>\n",
       "      <td>45.874922</td>\n",
       "      <td>2.991613</td>\n",
       "      <td>...</td>\n",
       "      <td>4.156649</td>\n",
       "      <td>5.233984</td>\n",
       "      <td>3.443848</td>\n",
       "      <td>3.665854</td>\n",
       "      <td>4.031534</td>\n",
       "      <td>5.729750</td>\n",
       "      <td>3.588626</td>\n",
       "      <td>3.726798</td>\n",
       "      <td>2.332165</td>\n",
       "      <td>2.345993</td>\n",
       "    </tr>\n",
       "    <tr>\n",
       "      <th>std</th>\n",
       "      <td>3.492948e+08</td>\n",
       "      <td>2.051496e+06</td>\n",
       "      <td>5.640172</td>\n",
       "      <td>6.642102</td>\n",
       "      <td>1.269210</td>\n",
       "      <td>2.535295</td>\n",
       "      <td>0.591362</td>\n",
       "      <td>7.218558</td>\n",
       "      <td>36.340693</td>\n",
       "      <td>2.901983</td>\n",
       "      <td>...</td>\n",
       "      <td>6.225964</td>\n",
       "      <td>7.552120</td>\n",
       "      <td>5.806511</td>\n",
       "      <td>6.027779</td>\n",
       "      <td>6.273162</td>\n",
       "      <td>7.436234</td>\n",
       "      <td>5.536178</td>\n",
       "      <td>5.673648</td>\n",
       "      <td>4.055871</td>\n",
       "      <td>4.056001</td>\n",
       "    </tr>\n",
       "    <tr>\n",
       "      <th>min</th>\n",
       "      <td>5.100000e+02</td>\n",
       "      <td>5.000000e+00</td>\n",
       "      <td>14.000000</td>\n",
       "      <td>0.000000</td>\n",
       "      <td>0.000000</td>\n",
       "      <td>0.000000</td>\n",
       "      <td>0.000000</td>\n",
       "      <td>149.000000</td>\n",
       "      <td>0.000000</td>\n",
       "      <td>1.000000</td>\n",
       "      <td>...</td>\n",
       "      <td>1.000000</td>\n",
       "      <td>1.000000</td>\n",
       "      <td>1.000000</td>\n",
       "      <td>1.000000</td>\n",
       "      <td>1.000000</td>\n",
       "      <td>1.000000</td>\n",
       "      <td>1.000000</td>\n",
       "      <td>1.000000</td>\n",
       "      <td>1.000000</td>\n",
       "      <td>1.000000</td>\n",
       "    </tr>\n",
       "    <tr>\n",
       "      <th>25%</th>\n",
       "      <td>1.902265e+07</td>\n",
       "      <td>7.610000e+02</td>\n",
       "      <td>19.000000</td>\n",
       "      <td>0.000000</td>\n",
       "      <td>0.000000</td>\n",
       "      <td>0.000000</td>\n",
       "      <td>0.000000</td>\n",
       "      <td>175.000000</td>\n",
       "      <td>0.000000</td>\n",
       "      <td>1.000000</td>\n",
       "      <td>...</td>\n",
       "      <td>1.000000</td>\n",
       "      <td>1.000000</td>\n",
       "      <td>1.000000</td>\n",
       "      <td>1.000000</td>\n",
       "      <td>1.000000</td>\n",
       "      <td>1.000000</td>\n",
       "      <td>1.000000</td>\n",
       "      <td>1.000000</td>\n",
       "      <td>1.000000</td>\n",
       "      <td>1.000000</td>\n",
       "    </tr>\n",
       "    <tr>\n",
       "      <th>50%</th>\n",
       "      <td>4.104476e+07</td>\n",
       "      <td>7.760000e+02</td>\n",
       "      <td>23.000000</td>\n",
       "      <td>0.000000</td>\n",
       "      <td>0.000000</td>\n",
       "      <td>0.000000</td>\n",
       "      <td>0.000000</td>\n",
       "      <td>180.000000</td>\n",
       "      <td>68.000000</td>\n",
       "      <td>2.000000</td>\n",
       "      <td>...</td>\n",
       "      <td>1.000000</td>\n",
       "      <td>1.000000</td>\n",
       "      <td>1.000000</td>\n",
       "      <td>1.000000</td>\n",
       "      <td>1.000000</td>\n",
       "      <td>1.000000</td>\n",
       "      <td>1.000000</td>\n",
       "      <td>1.000000</td>\n",
       "      <td>1.000000</td>\n",
       "      <td>1.000000</td>\n",
       "    </tr>\n",
       "    <tr>\n",
       "      <th>75%</th>\n",
       "      <td>6.723302e+07</td>\n",
       "      <td>7.990000e+02</td>\n",
       "      <td>27.000000</td>\n",
       "      <td>0.000000</td>\n",
       "      <td>0.000000</td>\n",
       "      <td>0.000000</td>\n",
       "      <td>0.000000</td>\n",
       "      <td>185.000000</td>\n",
       "      <td>75.000000</td>\n",
       "      <td>3.000000</td>\n",
       "      <td>...</td>\n",
       "      <td>1.000000</td>\n",
       "      <td>4.000000</td>\n",
       "      <td>1.000000</td>\n",
       "      <td>1.000000</td>\n",
       "      <td>1.000000</td>\n",
       "      <td>12.000000</td>\n",
       "      <td>1.000000</td>\n",
       "      <td>1.000000</td>\n",
       "      <td>1.000000</td>\n",
       "      <td>1.000000</td>\n",
       "    </tr>\n",
       "    <tr>\n",
       "      <th>max</th>\n",
       "      <td>1.394674e+09</td>\n",
       "      <td>6.200213e+07</td>\n",
       "      <td>54.000000</td>\n",
       "      <td>166.000000</td>\n",
       "      <td>65.000000</td>\n",
       "      <td>62.000000</td>\n",
       "      <td>37.000000</td>\n",
       "      <td>210.000000</td>\n",
       "      <td>118.000000</td>\n",
       "      <td>20.000000</td>\n",
       "      <td>...</td>\n",
       "      <td>20.000000</td>\n",
       "      <td>20.000000</td>\n",
       "      <td>20.000000</td>\n",
       "      <td>20.000000</td>\n",
       "      <td>20.000000</td>\n",
       "      <td>20.000000</td>\n",
       "      <td>20.000000</td>\n",
       "      <td>20.000000</td>\n",
       "      <td>20.000000</td>\n",
       "      <td>20.000000</td>\n",
       "    </tr>\n",
       "  </tbody>\n",
       "</table>\n",
       "<p>8 rows × 86 columns</p>\n",
       "</div>"
      ],
      "text/plain": [
       "                UID      NationID            Age        IntCaps  \\\n",
       "count  1.595410e+05  1.595410e+05  159541.000000  159541.000000   \n",
       "mean   1.368157e+08  7.621294e+04      23.578033       0.988987   \n",
       "std    3.492948e+08  2.051496e+06       5.640172       6.642102   \n",
       "min    5.100000e+02  5.000000e+00      14.000000       0.000000   \n",
       "25%    1.902265e+07  7.610000e+02      19.000000       0.000000   \n",
       "50%    4.104476e+07  7.760000e+02      23.000000       0.000000   \n",
       "75%    6.723302e+07  7.990000e+02      27.000000       0.000000   \n",
       "max    1.394674e+09  6.200213e+07      54.000000     166.000000   \n",
       "\n",
       "            IntGoals        U21Caps       U21Goals         Height  \\\n",
       "count  159541.000000  159541.000000  159541.000000  159541.000000   \n",
       "mean        0.108148       0.507424       0.065883     180.025097   \n",
       "std         1.269210       2.535295       0.591362       7.218558   \n",
       "min         0.000000       0.000000       0.000000     149.000000   \n",
       "25%         0.000000       0.000000       0.000000     175.000000   \n",
       "50%         0.000000       0.000000       0.000000     180.000000   \n",
       "75%         0.000000       0.000000       0.000000     185.000000   \n",
       "max        65.000000      62.000000      37.000000     210.000000   \n",
       "\n",
       "              Weight  AerialAbility  ...  AttackingMidRight  DefenderCentral  \\\n",
       "count  159541.000000  159541.000000  ...      159541.000000    159541.000000   \n",
       "mean       45.874922       2.991613  ...           4.156649         5.233984   \n",
       "std        36.340693       2.901983  ...           6.225964         7.552120   \n",
       "min         0.000000       1.000000  ...           1.000000         1.000000   \n",
       "25%         0.000000       1.000000  ...           1.000000         1.000000   \n",
       "50%        68.000000       2.000000  ...           1.000000         1.000000   \n",
       "75%        75.000000       3.000000  ...           1.000000         4.000000   \n",
       "max       118.000000      20.000000  ...          20.000000        20.000000   \n",
       "\n",
       "        DefenderLeft  DefenderRight  DefensiveMidfielder  MidfielderCentral  \\\n",
       "count  159541.000000  159541.000000        159541.000000      159541.000000   \n",
       "mean        3.443848       3.665854             4.031534           5.729750   \n",
       "std         5.806511       6.027779             6.273162           7.436234   \n",
       "min         1.000000       1.000000             1.000000           1.000000   \n",
       "25%         1.000000       1.000000             1.000000           1.000000   \n",
       "50%         1.000000       1.000000             1.000000           1.000000   \n",
       "75%         1.000000       1.000000             1.000000          12.000000   \n",
       "max        20.000000      20.000000            20.000000          20.000000   \n",
       "\n",
       "       MidfielderLeft  MidfielderRight   WingBackLeft  WingBackRight  \n",
       "count   159541.000000    159541.000000  159541.000000  159541.000000  \n",
       "mean         3.588626         3.726798       2.332165       2.345993  \n",
       "std          5.536178         5.673648       4.055871       4.056001  \n",
       "min          1.000000         1.000000       1.000000       1.000000  \n",
       "25%          1.000000         1.000000       1.000000       1.000000  \n",
       "50%          1.000000         1.000000       1.000000       1.000000  \n",
       "75%          1.000000         1.000000       1.000000       1.000000  \n",
       "max         20.000000        20.000000      20.000000      20.000000  \n",
       "\n",
       "[8 rows x 86 columns]"
      ]
     },
     "execution_count": 6,
     "metadata": {},
     "output_type": "execute_result"
    }
   ],
   "source": [
    "df.describe()"
   ]
  },
  {
   "cell_type": "code",
   "execution_count": 7,
   "metadata": {},
   "outputs": [],
   "source": [
    "df = df.dropna()"
   ]
  },
  {
   "cell_type": "code",
   "execution_count": 8,
   "metadata": {},
   "outputs": [
    {
     "data": {
      "text/plain": [
       "0            DM \n",
       "1            GK \n",
       "2            DM \n",
       "3             S \n",
       "4             S \n",
       "           ...  \n",
       "159536      D LC\n",
       "159537    AM RLC\n",
       "159538       S L\n",
       "159539    M/AM R\n",
       "159540       GK \n",
       "Name: PositionsDesc, Length: 159509, dtype: object"
      ]
     },
     "execution_count": 8,
     "metadata": {},
     "output_type": "execute_result"
    }
   ],
   "source": [
    "df['PositionsDesc']"
   ]
  },
  {
   "cell_type": "code",
   "execution_count": 9,
   "metadata": {},
   "outputs": [
    {
     "data": {
      "text/plain": [
       "S                   19281\n",
       "D C                 18725\n",
       "GK                  17115\n",
       "M C                  9865\n",
       "DM/M C               7330\n",
       "                    ...  \n",
       "D/WB/DM/M/AM RLC        1\n",
       "GK/M C                  1\n",
       "DM/M/S L                1\n",
       "DM/AM L                 1\n",
       "GK/M L                  1\n",
       "Name: PositionsDesc, Length: 286, dtype: int64"
      ]
     },
     "execution_count": 9,
     "metadata": {},
     "output_type": "execute_result"
    }
   ],
   "source": [
    "df['PositionsDesc'].value_counts()"
   ]
  },
  {
   "cell_type": "code",
   "execution_count": 10,
   "metadata": {},
   "outputs": [],
   "source": [
    "df = df.set_index('UID')"
   ]
  },
  {
   "cell_type": "markdown",
   "metadata": {},
   "source": [
    "## **Removing Unwanted Columns**\n",
    "\n",
    "Since, we want to predict the position of the player from his attributes, we will have to filter the columns which we need such as Born, IntCaps and U21 details,etc."
   ]
  },
  {
   "cell_type": "code",
   "execution_count": 11,
   "metadata": {},
   "outputs": [],
   "source": [
    "df = df.drop(['NationID','Born','IntCaps','IntGoals','U21Caps','U21Goals'],axis=1)"
   ]
  },
  {
   "cell_type": "code",
   "execution_count": 12,
   "metadata": {},
   "outputs": [],
   "source": [
    "position = df[['Goalkeeper', 'Sweeper', 'Striker',\n",
    "       'AttackingMidCentral', 'AttackingMidLeft', 'AttackingMidRight',\n",
    "       'DefenderCentral', 'DefenderLeft', 'DefenderRight',\n",
    "       'DefensiveMidfielder', 'MidfielderCentral', 'MidfielderLeft',\n",
    "       'MidfielderRight', 'WingBackLeft', 'WingBackRight']]"
   ]
  },
  {
   "cell_type": "markdown",
   "metadata": {},
   "source": [
    "This is what we want to predict but we can create a simpler single column to predict "
   ]
  },
  {
   "cell_type": "code",
   "execution_count": 13,
   "metadata": {},
   "outputs": [],
   "source": [
    "df['Actual_Position']=position.idxmax(axis=1)    "
   ]
  },
  {
   "cell_type": "code",
   "execution_count": 14,
   "metadata": {},
   "outputs": [],
   "source": [
    "df = df.replace({'Goalkeeper':'GK', 'DefenderCentral':'CB','DefenderLeft':'LB', 'DefenderRight':'RB', 'DefensiveMidfielder':'DM','MidfielderCentral':'CM','Sweeper':'SW', 'Striker':'ST',\n",
    "       'AttackingMidCentral':'AMC', 'AttackingMidLeft':'AML', 'AttackingMidRight':'AMR','MidfielderLeft':'LM','MidfielderRight':'RM', 'WingBackLeft':'LWB', 'WingBackRight':'RWB'})"
   ]
  },
  {
   "cell_type": "code",
   "execution_count": 15,
   "metadata": {},
   "outputs": [
    {
     "data": {
      "text/plain": [
       "<matplotlib.axes._subplots.AxesSubplot at 0xacc8760f08>"
      ]
     },
     "execution_count": 15,
     "metadata": {},
     "output_type": "execute_result"
    },
    {
     "data": {
      "image/png": "[encoded data removed]",
      "text/plain": [
       "<Figure size 432x288 with 1 Axes>"
      ]
     },
     "metadata": {
      "needs_background": "light"
     },
     "output_type": "display_data"
    }
   ],
   "source": [
    "e = df.groupby(['Actual_Position'])[['Height']].mean()\n",
    "e.plot()"
   ]
  },
  {
   "cell_type": "code",
   "execution_count": 16,
   "metadata": {},
   "outputs": [
    {
     "data": {
      "text/html": [
       "<div>\n",
       "<style scoped>\n",
       "    .dataframe tbody tr th:only-of-type {\n",
       "        vertical-align: middle;\n",
       "    }\n",
       "\n",
       "    .dataframe tbody tr th {\n",
       "        vertical-align: top;\n",
       "    }\n",
       "\n",
       "    .dataframe thead th {\n",
       "        text-align: right;\n",
       "    }\n",
       "</style>\n",
       "<table border=\"1\" class=\"dataframe\">\n",
       "  <thead>\n",
       "    <tr style=\"text-align: right;\">\n",
       "      <th></th>\n",
       "      <th>Name</th>\n",
       "      <th>Age</th>\n",
       "      <th>Height</th>\n",
       "      <th>Weight</th>\n",
       "      <th>AerialAbility</th>\n",
       "      <th>CommandOfArea</th>\n",
       "      <th>Communication</th>\n",
       "      <th>Eccentricity</th>\n",
       "      <th>Handling</th>\n",
       "      <th>Kicking</th>\n",
       "      <th>...</th>\n",
       "      <th>DefenderCentral</th>\n",
       "      <th>DefenderLeft</th>\n",
       "      <th>DefenderRight</th>\n",
       "      <th>DefensiveMidfielder</th>\n",
       "      <th>MidfielderCentral</th>\n",
       "      <th>MidfielderLeft</th>\n",
       "      <th>MidfielderRight</th>\n",
       "      <th>WingBackLeft</th>\n",
       "      <th>WingBackRight</th>\n",
       "      <th>Actual_Position</th>\n",
       "    </tr>\n",
       "    <tr>\n",
       "      <th>UID</th>\n",
       "      <th></th>\n",
       "      <th></th>\n",
       "      <th></th>\n",
       "      <th></th>\n",
       "      <th></th>\n",
       "      <th></th>\n",
       "      <th></th>\n",
       "      <th></th>\n",
       "      <th></th>\n",
       "      <th></th>\n",
       "      <th></th>\n",
       "      <th></th>\n",
       "      <th></th>\n",
       "      <th></th>\n",
       "      <th></th>\n",
       "      <th></th>\n",
       "      <th></th>\n",
       "      <th></th>\n",
       "      <th></th>\n",
       "      <th></th>\n",
       "      <th></th>\n",
       "    </tr>\n",
       "  </thead>\n",
       "  <tbody>\n",
       "    <tr>\n",
       "      <th>1000055</th>\n",
       "      <td>Wilfred Bamnjo</td>\n",
       "      <td>36</td>\n",
       "      <td>178</td>\n",
       "      <td>79</td>\n",
       "      <td>1</td>\n",
       "      <td>1</td>\n",
       "      <td>2</td>\n",
       "      <td>2</td>\n",
       "      <td>3</td>\n",
       "      <td>3</td>\n",
       "      <td>...</td>\n",
       "      <td>1</td>\n",
       "      <td>1</td>\n",
       "      <td>1</td>\n",
       "      <td>20</td>\n",
       "      <td>11</td>\n",
       "      <td>1</td>\n",
       "      <td>1</td>\n",
       "      <td>1</td>\n",
       "      <td>1</td>\n",
       "      <td>DM</td>\n",
       "    </tr>\n",
       "    <tr>\n",
       "      <th>1000331</th>\n",
       "      <td>Wang Wei</td>\n",
       "      <td>34</td>\n",
       "      <td>188</td>\n",
       "      <td>90</td>\n",
       "      <td>12</td>\n",
       "      <td>3</td>\n",
       "      <td>5</td>\n",
       "      <td>1</td>\n",
       "      <td>12</td>\n",
       "      <td>6</td>\n",
       "      <td>...</td>\n",
       "      <td>1</td>\n",
       "      <td>1</td>\n",
       "      <td>1</td>\n",
       "      <td>1</td>\n",
       "      <td>1</td>\n",
       "      <td>1</td>\n",
       "      <td>1</td>\n",
       "      <td>1</td>\n",
       "      <td>1</td>\n",
       "      <td>GK</td>\n",
       "    </tr>\n",
       "    <tr>\n",
       "      <th>1000334</th>\n",
       "      <td>Liu Yang</td>\n",
       "      <td>34</td>\n",
       "      <td>183</td>\n",
       "      <td>70</td>\n",
       "      <td>1</td>\n",
       "      <td>2</td>\n",
       "      <td>4</td>\n",
       "      <td>2</td>\n",
       "      <td>1</td>\n",
       "      <td>1</td>\n",
       "      <td>...</td>\n",
       "      <td>1</td>\n",
       "      <td>1</td>\n",
       "      <td>1</td>\n",
       "      <td>20</td>\n",
       "      <td>1</td>\n",
       "      <td>1</td>\n",
       "      <td>1</td>\n",
       "      <td>1</td>\n",
       "      <td>1</td>\n",
       "      <td>DM</td>\n",
       "    </tr>\n",
       "    <tr>\n",
       "      <th>1000337</th>\n",
       "      <td>Song Qi</td>\n",
       "      <td>31</td>\n",
       "      <td>170</td>\n",
       "      <td>65</td>\n",
       "      <td>1</td>\n",
       "      <td>3</td>\n",
       "      <td>1</td>\n",
       "      <td>3</td>\n",
       "      <td>2</td>\n",
       "      <td>2</td>\n",
       "      <td>...</td>\n",
       "      <td>1</td>\n",
       "      <td>1</td>\n",
       "      <td>1</td>\n",
       "      <td>1</td>\n",
       "      <td>1</td>\n",
       "      <td>1</td>\n",
       "      <td>1</td>\n",
       "      <td>1</td>\n",
       "      <td>1</td>\n",
       "      <td>ST</td>\n",
       "    </tr>\n",
       "    <tr>\n",
       "      <th>1000340</th>\n",
       "      <td>Chen Lei</td>\n",
       "      <td>33</td>\n",
       "      <td>181</td>\n",
       "      <td>70</td>\n",
       "      <td>3</td>\n",
       "      <td>3</td>\n",
       "      <td>2</td>\n",
       "      <td>3</td>\n",
       "      <td>1</td>\n",
       "      <td>1</td>\n",
       "      <td>...</td>\n",
       "      <td>1</td>\n",
       "      <td>1</td>\n",
       "      <td>1</td>\n",
       "      <td>1</td>\n",
       "      <td>1</td>\n",
       "      <td>1</td>\n",
       "      <td>1</td>\n",
       "      <td>1</td>\n",
       "      <td>1</td>\n",
       "      <td>ST</td>\n",
       "    </tr>\n",
       "    <tr>\n",
       "      <th>...</th>\n",
       "      <td>...</td>\n",
       "      <td>...</td>\n",
       "      <td>...</td>\n",
       "      <td>...</td>\n",
       "      <td>...</td>\n",
       "      <td>...</td>\n",
       "      <td>...</td>\n",
       "      <td>...</td>\n",
       "      <td>...</td>\n",
       "      <td>...</td>\n",
       "      <td>...</td>\n",
       "      <td>...</td>\n",
       "      <td>...</td>\n",
       "      <td>...</td>\n",
       "      <td>...</td>\n",
       "      <td>...</td>\n",
       "      <td>...</td>\n",
       "      <td>...</td>\n",
       "      <td>...</td>\n",
       "      <td>...</td>\n",
       "      <td>...</td>\n",
       "    </tr>\n",
       "    <tr>\n",
       "      <th>981931</th>\n",
       "      <td>Scott Palguta</td>\n",
       "      <td>33</td>\n",
       "      <td>188</td>\n",
       "      <td>87</td>\n",
       "      <td>1</td>\n",
       "      <td>1</td>\n",
       "      <td>1</td>\n",
       "      <td>1</td>\n",
       "      <td>1</td>\n",
       "      <td>1</td>\n",
       "      <td>...</td>\n",
       "      <td>17</td>\n",
       "      <td>20</td>\n",
       "      <td>10</td>\n",
       "      <td>1</td>\n",
       "      <td>1</td>\n",
       "      <td>1</td>\n",
       "      <td>1</td>\n",
       "      <td>13</td>\n",
       "      <td>1</td>\n",
       "      <td>LB</td>\n",
       "    </tr>\n",
       "    <tr>\n",
       "      <th>981959</th>\n",
       "      <td>Jamie Dodds</td>\n",
       "      <td>34</td>\n",
       "      <td>183</td>\n",
       "      <td>75</td>\n",
       "      <td>1</td>\n",
       "      <td>1</td>\n",
       "      <td>1</td>\n",
       "      <td>1</td>\n",
       "      <td>1</td>\n",
       "      <td>1</td>\n",
       "      <td>...</td>\n",
       "      <td>1</td>\n",
       "      <td>1</td>\n",
       "      <td>1</td>\n",
       "      <td>1</td>\n",
       "      <td>12</td>\n",
       "      <td>1</td>\n",
       "      <td>1</td>\n",
       "      <td>1</td>\n",
       "      <td>1</td>\n",
       "      <td>AMC</td>\n",
       "    </tr>\n",
       "    <tr>\n",
       "      <th>981962</th>\n",
       "      <td>Desmond Tachie</td>\n",
       "      <td>32</td>\n",
       "      <td>178</td>\n",
       "      <td>75</td>\n",
       "      <td>1</td>\n",
       "      <td>1</td>\n",
       "      <td>1</td>\n",
       "      <td>1</td>\n",
       "      <td>1</td>\n",
       "      <td>1</td>\n",
       "      <td>...</td>\n",
       "      <td>1</td>\n",
       "      <td>1</td>\n",
       "      <td>1</td>\n",
       "      <td>1</td>\n",
       "      <td>1</td>\n",
       "      <td>10</td>\n",
       "      <td>1</td>\n",
       "      <td>1</td>\n",
       "      <td>1</td>\n",
       "      <td>ST</td>\n",
       "    </tr>\n",
       "    <tr>\n",
       "      <th>981967</th>\n",
       "      <td>Joey Gjertsen</td>\n",
       "      <td>34</td>\n",
       "      <td>176</td>\n",
       "      <td>71</td>\n",
       "      <td>1</td>\n",
       "      <td>1</td>\n",
       "      <td>1</td>\n",
       "      <td>1</td>\n",
       "      <td>1</td>\n",
       "      <td>1</td>\n",
       "      <td>...</td>\n",
       "      <td>1</td>\n",
       "      <td>1</td>\n",
       "      <td>1</td>\n",
       "      <td>4</td>\n",
       "      <td>10</td>\n",
       "      <td>13</td>\n",
       "      <td>20</td>\n",
       "      <td>1</td>\n",
       "      <td>1</td>\n",
       "      <td>RM</td>\n",
       "    </tr>\n",
       "    <tr>\n",
       "      <th>981968</th>\n",
       "      <td>Josh Wicks</td>\n",
       "      <td>32</td>\n",
       "      <td>192</td>\n",
       "      <td>102</td>\n",
       "      <td>11</td>\n",
       "      <td>11</td>\n",
       "      <td>13</td>\n",
       "      <td>14</td>\n",
       "      <td>13</td>\n",
       "      <td>14</td>\n",
       "      <td>...</td>\n",
       "      <td>1</td>\n",
       "      <td>1</td>\n",
       "      <td>1</td>\n",
       "      <td>1</td>\n",
       "      <td>1</td>\n",
       "      <td>1</td>\n",
       "      <td>1</td>\n",
       "      <td>1</td>\n",
       "      <td>1</td>\n",
       "      <td>GK</td>\n",
       "    </tr>\n",
       "  </tbody>\n",
       "</table>\n",
       "<p>159509 rows × 83 columns</p>\n",
       "</div>"
      ],
      "text/plain": [
       "                   Name  Age  Height  Weight  AerialAbility  CommandOfArea  \\\n",
       "UID                                                                          \n",
       "1000055  Wilfred Bamnjo   36     178      79              1              1   \n",
       "1000331        Wang Wei   34     188      90             12              3   \n",
       "1000334        Liu Yang   34     183      70              1              2   \n",
       "1000337         Song Qi   31     170      65              1              3   \n",
       "1000340        Chen Lei   33     181      70              3              3   \n",
       "...                 ...  ...     ...     ...            ...            ...   \n",
       "981931    Scott Palguta   33     188      87              1              1   \n",
       "981959      Jamie Dodds   34     183      75              1              1   \n",
       "981962   Desmond Tachie   32     178      75              1              1   \n",
       "981967    Joey Gjertsen   34     176      71              1              1   \n",
       "981968       Josh Wicks   32     192     102             11             11   \n",
       "\n",
       "         Communication  Eccentricity  Handling  Kicking  ...  DefenderCentral  \\\n",
       "UID                                                      ...                    \n",
       "1000055              2             2         3        3  ...                1   \n",
       "1000331              5             1        12        6  ...                1   \n",
       "1000334              4             2         1        1  ...                1   \n",
       "1000337              1             3         2        2  ...                1   \n",
       "1000340              2             3         1        1  ...                1   \n",
       "...                ...           ...       ...      ...  ...              ...   \n",
       "981931               1             1         1        1  ...               17   \n",
       "981959               1             1         1        1  ...                1   \n",
       "981962               1             1         1        1  ...                1   \n",
       "981967               1             1         1        1  ...                1   \n",
       "981968              13            14        13       14  ...                1   \n",
       "\n",
       "         DefenderLeft  DefenderRight  DefensiveMidfielder  MidfielderCentral  \\\n",
       "UID                                                                            \n",
       "1000055             1              1                   20                 11   \n",
       "1000331             1              1                    1                  1   \n",
       "1000334             1              1                   20                  1   \n",
       "1000337             1              1                    1                  1   \n",
       "1000340             1              1                    1                  1   \n",
       "...               ...            ...                  ...                ...   \n",
       "981931             20             10                    1                  1   \n",
       "981959              1              1                    1                 12   \n",
       "981962              1              1                    1                  1   \n",
       "981967              1              1                    4                 10   \n",
       "981968              1              1                    1                  1   \n",
       "\n",
       "         MidfielderLeft  MidfielderRight  WingBackLeft  WingBackRight  \\\n",
       "UID                                                                     \n",
       "1000055               1                1             1              1   \n",
       "1000331               1                1             1              1   \n",
       "1000334               1                1             1              1   \n",
       "1000337               1                1             1              1   \n",
       "1000340               1                1             1              1   \n",
       "...                 ...              ...           ...            ...   \n",
       "981931                1                1            13              1   \n",
       "981959                1                1             1              1   \n",
       "981962               10                1             1              1   \n",
       "981967               13               20             1              1   \n",
       "981968                1                1             1              1   \n",
       "\n",
       "         Actual_Position  \n",
       "UID                       \n",
       "1000055               DM  \n",
       "1000331               GK  \n",
       "1000334               DM  \n",
       "1000337               ST  \n",
       "1000340               ST  \n",
       "...                  ...  \n",
       "981931                LB  \n",
       "981959               AMC  \n",
       "981962                ST  \n",
       "981967                RM  \n",
       "981968                GK  \n",
       "\n",
       "[159509 rows x 83 columns]"
      ]
     },
     "execution_count": 16,
     "metadata": {},
     "output_type": "execute_result"
    }
   ],
   "source": [
    "df"
   ]
  },
  {
   "cell_type": "markdown",
   "metadata": {},
   "source": [
    "Having successfully obtained a **single coloumn corresponding to a player's position**, we can now dropo the individual position attributes columns."
   ]
  },
  {
   "cell_type": "code",
   "execution_count": 17,
   "metadata": {},
   "outputs": [],
   "source": [
    "df = df.drop(['Goalkeeper', 'Sweeper', 'Striker',\n",
    "       'AttackingMidCentral', 'AttackingMidLeft', 'AttackingMidRight',\n",
    "       'DefenderCentral', 'DefenderLeft', 'DefenderRight',\n",
    "       'DefensiveMidfielder', 'MidfielderCentral', 'MidfielderLeft',\n",
    "       'MidfielderRight', 'WingBackLeft', 'WingBackRight'],axis=1)"
   ]
  },
  {
   "cell_type": "code",
   "execution_count": 18,
   "metadata": {},
   "outputs": [],
   "source": [
    "df=df.drop(['PositionsDesc'],axis=1)"
   ]
  },
  {
   "cell_type": "code",
   "execution_count": 19,
   "metadata": {},
   "outputs": [
    {
     "data": {
      "text/html": [
       "<div>\n",
       "<style scoped>\n",
       "    .dataframe tbody tr th:only-of-type {\n",
       "        vertical-align: middle;\n",
       "    }\n",
       "\n",
       "    .dataframe tbody tr th {\n",
       "        vertical-align: top;\n",
       "    }\n",
       "\n",
       "    .dataframe thead th {\n",
       "        text-align: right;\n",
       "    }\n",
       "</style>\n",
       "<table border=\"1\" class=\"dataframe\">\n",
       "  <thead>\n",
       "    <tr style=\"text-align: right;\">\n",
       "      <th></th>\n",
       "      <th>Name</th>\n",
       "      <th>Age</th>\n",
       "      <th>Height</th>\n",
       "      <th>Weight</th>\n",
       "      <th>AerialAbility</th>\n",
       "      <th>CommandOfArea</th>\n",
       "      <th>Communication</th>\n",
       "      <th>Eccentricity</th>\n",
       "      <th>Handling</th>\n",
       "      <th>Kicking</th>\n",
       "      <th>...</th>\n",
       "      <th>Versatility</th>\n",
       "      <th>Adaptability</th>\n",
       "      <th>Ambition</th>\n",
       "      <th>Loyalty</th>\n",
       "      <th>Pressure</th>\n",
       "      <th>Professional</th>\n",
       "      <th>Sportsmanship</th>\n",
       "      <th>Temperament</th>\n",
       "      <th>Controversy</th>\n",
       "      <th>Actual_Position</th>\n",
       "    </tr>\n",
       "    <tr>\n",
       "      <th>UID</th>\n",
       "      <th></th>\n",
       "      <th></th>\n",
       "      <th></th>\n",
       "      <th></th>\n",
       "      <th></th>\n",
       "      <th></th>\n",
       "      <th></th>\n",
       "      <th></th>\n",
       "      <th></th>\n",
       "      <th></th>\n",
       "      <th></th>\n",
       "      <th></th>\n",
       "      <th></th>\n",
       "      <th></th>\n",
       "      <th></th>\n",
       "      <th></th>\n",
       "      <th></th>\n",
       "      <th></th>\n",
       "      <th></th>\n",
       "      <th></th>\n",
       "      <th></th>\n",
       "    </tr>\n",
       "  </thead>\n",
       "  <tbody>\n",
       "    <tr>\n",
       "      <th>1000055</th>\n",
       "      <td>Wilfred Bamnjo</td>\n",
       "      <td>36</td>\n",
       "      <td>178</td>\n",
       "      <td>79</td>\n",
       "      <td>1</td>\n",
       "      <td>1</td>\n",
       "      <td>2</td>\n",
       "      <td>2</td>\n",
       "      <td>3</td>\n",
       "      <td>3</td>\n",
       "      <td>...</td>\n",
       "      <td>4</td>\n",
       "      <td>20</td>\n",
       "      <td>6</td>\n",
       "      <td>3</td>\n",
       "      <td>9</td>\n",
       "      <td>3</td>\n",
       "      <td>10</td>\n",
       "      <td>14</td>\n",
       "      <td>11</td>\n",
       "      <td>DM</td>\n",
       "    </tr>\n",
       "    <tr>\n",
       "      <th>1000331</th>\n",
       "      <td>Wang Wei</td>\n",
       "      <td>34</td>\n",
       "      <td>188</td>\n",
       "      <td>90</td>\n",
       "      <td>12</td>\n",
       "      <td>3</td>\n",
       "      <td>5</td>\n",
       "      <td>1</td>\n",
       "      <td>12</td>\n",
       "      <td>6</td>\n",
       "      <td>...</td>\n",
       "      <td>6</td>\n",
       "      <td>14</td>\n",
       "      <td>10</td>\n",
       "      <td>7</td>\n",
       "      <td>11</td>\n",
       "      <td>11</td>\n",
       "      <td>12</td>\n",
       "      <td>10</td>\n",
       "      <td>6</td>\n",
       "      <td>GK</td>\n",
       "    </tr>\n",
       "    <tr>\n",
       "      <th>1000334</th>\n",
       "      <td>Liu Yang</td>\n",
       "      <td>34</td>\n",
       "      <td>183</td>\n",
       "      <td>70</td>\n",
       "      <td>1</td>\n",
       "      <td>2</td>\n",
       "      <td>4</td>\n",
       "      <td>2</td>\n",
       "      <td>1</td>\n",
       "      <td>1</td>\n",
       "      <td>...</td>\n",
       "      <td>5</td>\n",
       "      <td>9</td>\n",
       "      <td>11</td>\n",
       "      <td>14</td>\n",
       "      <td>7</td>\n",
       "      <td>11</td>\n",
       "      <td>13</td>\n",
       "      <td>10</td>\n",
       "      <td>8</td>\n",
       "      <td>DM</td>\n",
       "    </tr>\n",
       "    <tr>\n",
       "      <th>1000337</th>\n",
       "      <td>Song Qi</td>\n",
       "      <td>31</td>\n",
       "      <td>170</td>\n",
       "      <td>65</td>\n",
       "      <td>1</td>\n",
       "      <td>3</td>\n",
       "      <td>1</td>\n",
       "      <td>3</td>\n",
       "      <td>2</td>\n",
       "      <td>2</td>\n",
       "      <td>...</td>\n",
       "      <td>6</td>\n",
       "      <td>16</td>\n",
       "      <td>13</td>\n",
       "      <td>11</td>\n",
       "      <td>9</td>\n",
       "      <td>10</td>\n",
       "      <td>13</td>\n",
       "      <td>13</td>\n",
       "      <td>7</td>\n",
       "      <td>ST</td>\n",
       "    </tr>\n",
       "    <tr>\n",
       "      <th>1000340</th>\n",
       "      <td>Chen Lei</td>\n",
       "      <td>33</td>\n",
       "      <td>181</td>\n",
       "      <td>70</td>\n",
       "      <td>3</td>\n",
       "      <td>3</td>\n",
       "      <td>2</td>\n",
       "      <td>3</td>\n",
       "      <td>1</td>\n",
       "      <td>1</td>\n",
       "      <td>...</td>\n",
       "      <td>5</td>\n",
       "      <td>13</td>\n",
       "      <td>11</td>\n",
       "      <td>9</td>\n",
       "      <td>10</td>\n",
       "      <td>12</td>\n",
       "      <td>10</td>\n",
       "      <td>19</td>\n",
       "      <td>8</td>\n",
       "      <td>ST</td>\n",
       "    </tr>\n",
       "    <tr>\n",
       "      <th>...</th>\n",
       "      <td>...</td>\n",
       "      <td>...</td>\n",
       "      <td>...</td>\n",
       "      <td>...</td>\n",
       "      <td>...</td>\n",
       "      <td>...</td>\n",
       "      <td>...</td>\n",
       "      <td>...</td>\n",
       "      <td>...</td>\n",
       "      <td>...</td>\n",
       "      <td>...</td>\n",
       "      <td>...</td>\n",
       "      <td>...</td>\n",
       "      <td>...</td>\n",
       "      <td>...</td>\n",
       "      <td>...</td>\n",
       "      <td>...</td>\n",
       "      <td>...</td>\n",
       "      <td>...</td>\n",
       "      <td>...</td>\n",
       "      <td>...</td>\n",
       "    </tr>\n",
       "    <tr>\n",
       "      <th>981931</th>\n",
       "      <td>Scott Palguta</td>\n",
       "      <td>33</td>\n",
       "      <td>188</td>\n",
       "      <td>87</td>\n",
       "      <td>1</td>\n",
       "      <td>1</td>\n",
       "      <td>1</td>\n",
       "      <td>1</td>\n",
       "      <td>1</td>\n",
       "      <td>1</td>\n",
       "      <td>...</td>\n",
       "      <td>8</td>\n",
       "      <td>11</td>\n",
       "      <td>2</td>\n",
       "      <td>15</td>\n",
       "      <td>8</td>\n",
       "      <td>11</td>\n",
       "      <td>11</td>\n",
       "      <td>10</td>\n",
       "      <td>7</td>\n",
       "      <td>LB</td>\n",
       "    </tr>\n",
       "    <tr>\n",
       "      <th>981959</th>\n",
       "      <td>Jamie Dodds</td>\n",
       "      <td>34</td>\n",
       "      <td>183</td>\n",
       "      <td>75</td>\n",
       "      <td>1</td>\n",
       "      <td>1</td>\n",
       "      <td>1</td>\n",
       "      <td>1</td>\n",
       "      <td>1</td>\n",
       "      <td>1</td>\n",
       "      <td>...</td>\n",
       "      <td>11</td>\n",
       "      <td>19</td>\n",
       "      <td>12</td>\n",
       "      <td>11</td>\n",
       "      <td>10</td>\n",
       "      <td>10</td>\n",
       "      <td>12</td>\n",
       "      <td>19</td>\n",
       "      <td>3</td>\n",
       "      <td>AMC</td>\n",
       "    </tr>\n",
       "    <tr>\n",
       "      <th>981962</th>\n",
       "      <td>Desmond Tachie</td>\n",
       "      <td>32</td>\n",
       "      <td>178</td>\n",
       "      <td>75</td>\n",
       "      <td>1</td>\n",
       "      <td>1</td>\n",
       "      <td>1</td>\n",
       "      <td>1</td>\n",
       "      <td>1</td>\n",
       "      <td>1</td>\n",
       "      <td>...</td>\n",
       "      <td>8</td>\n",
       "      <td>11</td>\n",
       "      <td>13</td>\n",
       "      <td>11</td>\n",
       "      <td>12</td>\n",
       "      <td>11</td>\n",
       "      <td>12</td>\n",
       "      <td>13</td>\n",
       "      <td>3</td>\n",
       "      <td>ST</td>\n",
       "    </tr>\n",
       "    <tr>\n",
       "      <th>981967</th>\n",
       "      <td>Joey Gjertsen</td>\n",
       "      <td>34</td>\n",
       "      <td>176</td>\n",
       "      <td>71</td>\n",
       "      <td>1</td>\n",
       "      <td>1</td>\n",
       "      <td>1</td>\n",
       "      <td>1</td>\n",
       "      <td>1</td>\n",
       "      <td>1</td>\n",
       "      <td>...</td>\n",
       "      <td>13</td>\n",
       "      <td>13</td>\n",
       "      <td>9</td>\n",
       "      <td>11</td>\n",
       "      <td>11</td>\n",
       "      <td>14</td>\n",
       "      <td>15</td>\n",
       "      <td>14</td>\n",
       "      <td>2</td>\n",
       "      <td>RM</td>\n",
       "    </tr>\n",
       "    <tr>\n",
       "      <th>981968</th>\n",
       "      <td>Josh Wicks</td>\n",
       "      <td>32</td>\n",
       "      <td>192</td>\n",
       "      <td>102</td>\n",
       "      <td>11</td>\n",
       "      <td>11</td>\n",
       "      <td>13</td>\n",
       "      <td>14</td>\n",
       "      <td>13</td>\n",
       "      <td>14</td>\n",
       "      <td>...</td>\n",
       "      <td>10</td>\n",
       "      <td>18</td>\n",
       "      <td>10</td>\n",
       "      <td>4</td>\n",
       "      <td>9</td>\n",
       "      <td>11</td>\n",
       "      <td>9</td>\n",
       "      <td>5</td>\n",
       "      <td>8</td>\n",
       "      <td>GK</td>\n",
       "    </tr>\n",
       "  </tbody>\n",
       "</table>\n",
       "<p>159509 rows × 67 columns</p>\n",
       "</div>"
      ],
      "text/plain": [
       "                   Name  Age  Height  Weight  AerialAbility  CommandOfArea  \\\n",
       "UID                                                                          \n",
       "1000055  Wilfred Bamnjo   36     178      79              1              1   \n",
       "1000331        Wang Wei   34     188      90             12              3   \n",
       "1000334        Liu Yang   34     183      70              1              2   \n",
       "1000337         Song Qi   31     170      65              1              3   \n",
       "1000340        Chen Lei   33     181      70              3              3   \n",
       "...                 ...  ...     ...     ...            ...            ...   \n",
       "981931    Scott Palguta   33     188      87              1              1   \n",
       "981959      Jamie Dodds   34     183      75              1              1   \n",
       "981962   Desmond Tachie   32     178      75              1              1   \n",
       "981967    Joey Gjertsen   34     176      71              1              1   \n",
       "981968       Josh Wicks   32     192     102             11             11   \n",
       "\n",
       "         Communication  Eccentricity  Handling  Kicking  ...  Versatility  \\\n",
       "UID                                                      ...                \n",
       "1000055              2             2         3        3  ...            4   \n",
       "1000331              5             1        12        6  ...            6   \n",
       "1000334              4             2         1        1  ...            5   \n",
       "1000337              1             3         2        2  ...            6   \n",
       "1000340              2             3         1        1  ...            5   \n",
       "...                ...           ...       ...      ...  ...          ...   \n",
       "981931               1             1         1        1  ...            8   \n",
       "981959               1             1         1        1  ...           11   \n",
       "981962               1             1         1        1  ...            8   \n",
       "981967               1             1         1        1  ...           13   \n",
       "981968              13            14        13       14  ...           10   \n",
       "\n",
       "         Adaptability  Ambition  Loyalty  Pressure  Professional  \\\n",
       "UID                                                                \n",
       "1000055            20         6        3         9             3   \n",
       "1000331            14        10        7        11            11   \n",
       "1000334             9        11       14         7            11   \n",
       "1000337            16        13       11         9            10   \n",
       "1000340            13        11        9        10            12   \n",
       "...               ...       ...      ...       ...           ...   \n",
       "981931             11         2       15         8            11   \n",
       "981959             19        12       11        10            10   \n",
       "981962             11        13       11        12            11   \n",
       "981967             13         9       11        11            14   \n",
       "981968             18        10        4         9            11   \n",
       "\n",
       "         Sportsmanship  Temperament  Controversy  Actual_Position  \n",
       "UID                                                                \n",
       "1000055             10           14           11               DM  \n",
       "1000331             12           10            6               GK  \n",
       "1000334             13           10            8               DM  \n",
       "1000337             13           13            7               ST  \n",
       "1000340             10           19            8               ST  \n",
       "...                ...          ...          ...              ...  \n",
       "981931              11           10            7               LB  \n",
       "981959              12           19            3              AMC  \n",
       "981962              12           13            3               ST  \n",
       "981967              15           14            2               RM  \n",
       "981968               9            5            8               GK  \n",
       "\n",
       "[159509 rows x 67 columns]"
      ]
     },
     "execution_count": 19,
     "metadata": {},
     "output_type": "execute_result"
    }
   ],
   "source": [
    "df"
   ]
  },
  {
   "cell_type": "code",
   "execution_count": 20,
   "metadata": {},
   "outputs": [
    {
     "data": {
      "text/plain": [
       "Actual_Position    0.0\n",
       "Crossing           0.0\n",
       "Anticipation       0.0\n",
       "Aggression         0.0\n",
       "Technique          0.0\n",
       "                  ... \n",
       "Leadership         0.0\n",
       "Flair              0.0\n",
       "Determination      0.0\n",
       "Decisions          0.0\n",
       "Name               0.0\n",
       "Length: 67, dtype: float64"
      ]
     },
     "execution_count": 20,
     "metadata": {},
     "output_type": "execute_result"
    }
   ],
   "source": [
    "((df.isnull().sum() / df.shape[0]) * 100).sort_values(ascending = False)"
   ]
  },
  {
   "cell_type": "markdown",
   "metadata": {},
   "source": [
    "## Identifying Causation and Correlation in Variables"
   ]
  },
  {
   "cell_type": "markdown",
   "metadata": {},
   "source": [
    "**Which variables are most likely to affect the Position of a player?**\n",
    "\n",
    "First, we remove variables such as **Name, Controversy, etc.** which are likely to not cause any effect on position\n",
    "\n",
    "But before that let us convert position from a categorical variable to numeric variable. We choose values such that Defenders, Midfielders and Attackers can be differentiated with ease. Here, we must apply some basic knowledge of football. You can even arbitrarily assign values, but I think it would be better to keep distance between opposite positions."
   ]
  },
  {
   "cell_type": "code",
   "execution_count": 21,
   "metadata": {},
   "outputs": [],
   "source": [
    "x=df['Actual_Position']"
   ]
  },
  {
   "cell_type": "code",
   "execution_count": 22,
   "metadata": {},
   "outputs": [],
   "source": [
    "df = df.replace({'GK':100,'CB':2000,'LB':2800, 'RB':2700, 'DM':2500,'CM':3300,'SW':1900, 'ST':4600,\n",
    "       'AMC': 3800, 'AML':3900, 'AMR':4000,'LM':3400,'RM':3500, 'LWB':2400, 'RWB':2700})"
   ]
  },
  {
   "cell_type": "code",
   "execution_count": 23,
   "metadata": {},
   "outputs": [
    {
     "data": {
      "text/html": [
       "<div>\n",
       "<style scoped>\n",
       "    .dataframe tbody tr th:only-of-type {\n",
       "        vertical-align: middle;\n",
       "    }\n",
       "\n",
       "    .dataframe tbody tr th {\n",
       "        vertical-align: top;\n",
       "    }\n",
       "\n",
       "    .dataframe thead th {\n",
       "        text-align: right;\n",
       "    }\n",
       "</style>\n",
       "<table border=\"1\" class=\"dataframe\">\n",
       "  <thead>\n",
       "    <tr style=\"text-align: right;\">\n",
       "      <th></th>\n",
       "      <th>Name</th>\n",
       "      <th>Age</th>\n",
       "      <th>Height</th>\n",
       "      <th>Weight</th>\n",
       "      <th>AerialAbility</th>\n",
       "      <th>CommandOfArea</th>\n",
       "      <th>Communication</th>\n",
       "      <th>Eccentricity</th>\n",
       "      <th>Handling</th>\n",
       "      <th>Kicking</th>\n",
       "      <th>...</th>\n",
       "      <th>Versatility</th>\n",
       "      <th>Adaptability</th>\n",
       "      <th>Ambition</th>\n",
       "      <th>Loyalty</th>\n",
       "      <th>Pressure</th>\n",
       "      <th>Professional</th>\n",
       "      <th>Sportsmanship</th>\n",
       "      <th>Temperament</th>\n",
       "      <th>Controversy</th>\n",
       "      <th>Actual_Position</th>\n",
       "    </tr>\n",
       "    <tr>\n",
       "      <th>UID</th>\n",
       "      <th></th>\n",
       "      <th></th>\n",
       "      <th></th>\n",
       "      <th></th>\n",
       "      <th></th>\n",
       "      <th></th>\n",
       "      <th></th>\n",
       "      <th></th>\n",
       "      <th></th>\n",
       "      <th></th>\n",
       "      <th></th>\n",
       "      <th></th>\n",
       "      <th></th>\n",
       "      <th></th>\n",
       "      <th></th>\n",
       "      <th></th>\n",
       "      <th></th>\n",
       "      <th></th>\n",
       "      <th></th>\n",
       "      <th></th>\n",
       "      <th></th>\n",
       "    </tr>\n",
       "  </thead>\n",
       "  <tbody>\n",
       "    <tr>\n",
       "      <th>1000055</th>\n",
       "      <td>Wilfred Bamnjo</td>\n",
       "      <td>36</td>\n",
       "      <td>178</td>\n",
       "      <td>79</td>\n",
       "      <td>1</td>\n",
       "      <td>1</td>\n",
       "      <td>2</td>\n",
       "      <td>2</td>\n",
       "      <td>3</td>\n",
       "      <td>3</td>\n",
       "      <td>...</td>\n",
       "      <td>4</td>\n",
       "      <td>20</td>\n",
       "      <td>6</td>\n",
       "      <td>3</td>\n",
       "      <td>9</td>\n",
       "      <td>3</td>\n",
       "      <td>10</td>\n",
       "      <td>14</td>\n",
       "      <td>11</td>\n",
       "      <td>2500</td>\n",
       "    </tr>\n",
       "    <tr>\n",
       "      <th>1000331</th>\n",
       "      <td>Wang Wei</td>\n",
       "      <td>34</td>\n",
       "      <td>188</td>\n",
       "      <td>90</td>\n",
       "      <td>12</td>\n",
       "      <td>3</td>\n",
       "      <td>5</td>\n",
       "      <td>1</td>\n",
       "      <td>12</td>\n",
       "      <td>6</td>\n",
       "      <td>...</td>\n",
       "      <td>6</td>\n",
       "      <td>14</td>\n",
       "      <td>10</td>\n",
       "      <td>7</td>\n",
       "      <td>11</td>\n",
       "      <td>11</td>\n",
       "      <td>12</td>\n",
       "      <td>10</td>\n",
       "      <td>6</td>\n",
       "      <td>100</td>\n",
       "    </tr>\n",
       "    <tr>\n",
       "      <th>1000334</th>\n",
       "      <td>Liu Yang</td>\n",
       "      <td>34</td>\n",
       "      <td>183</td>\n",
       "      <td>70</td>\n",
       "      <td>1</td>\n",
       "      <td>2</td>\n",
       "      <td>4</td>\n",
       "      <td>2</td>\n",
       "      <td>1</td>\n",
       "      <td>1</td>\n",
       "      <td>...</td>\n",
       "      <td>5</td>\n",
       "      <td>9</td>\n",
       "      <td>11</td>\n",
       "      <td>14</td>\n",
       "      <td>7</td>\n",
       "      <td>11</td>\n",
       "      <td>13</td>\n",
       "      <td>10</td>\n",
       "      <td>8</td>\n",
       "      <td>2500</td>\n",
       "    </tr>\n",
       "    <tr>\n",
       "      <th>1000337</th>\n",
       "      <td>Song Qi</td>\n",
       "      <td>31</td>\n",
       "      <td>170</td>\n",
       "      <td>65</td>\n",
       "      <td>1</td>\n",
       "      <td>3</td>\n",
       "      <td>1</td>\n",
       "      <td>3</td>\n",
       "      <td>2</td>\n",
       "      <td>2</td>\n",
       "      <td>...</td>\n",
       "      <td>6</td>\n",
       "      <td>16</td>\n",
       "      <td>13</td>\n",
       "      <td>11</td>\n",
       "      <td>9</td>\n",
       "      <td>10</td>\n",
       "      <td>13</td>\n",
       "      <td>13</td>\n",
       "      <td>7</td>\n",
       "      <td>4600</td>\n",
       "    </tr>\n",
       "    <tr>\n",
       "      <th>1000340</th>\n",
       "      <td>Chen Lei</td>\n",
       "      <td>33</td>\n",
       "      <td>181</td>\n",
       "      <td>70</td>\n",
       "      <td>3</td>\n",
       "      <td>3</td>\n",
       "      <td>2</td>\n",
       "      <td>3</td>\n",
       "      <td>1</td>\n",
       "      <td>1</td>\n",
       "      <td>...</td>\n",
       "      <td>5</td>\n",
       "      <td>13</td>\n",
       "      <td>11</td>\n",
       "      <td>9</td>\n",
       "      <td>10</td>\n",
       "      <td>12</td>\n",
       "      <td>10</td>\n",
       "      <td>19</td>\n",
       "      <td>8</td>\n",
       "      <td>4600</td>\n",
       "    </tr>\n",
       "    <tr>\n",
       "      <th>...</th>\n",
       "      <td>...</td>\n",
       "      <td>...</td>\n",
       "      <td>...</td>\n",
       "      <td>...</td>\n",
       "      <td>...</td>\n",
       "      <td>...</td>\n",
       "      <td>...</td>\n",
       "      <td>...</td>\n",
       "      <td>...</td>\n",
       "      <td>...</td>\n",
       "      <td>...</td>\n",
       "      <td>...</td>\n",
       "      <td>...</td>\n",
       "      <td>...</td>\n",
       "      <td>...</td>\n",
       "      <td>...</td>\n",
       "      <td>...</td>\n",
       "      <td>...</td>\n",
       "      <td>...</td>\n",
       "      <td>...</td>\n",
       "      <td>...</td>\n",
       "    </tr>\n",
       "    <tr>\n",
       "      <th>981931</th>\n",
       "      <td>Scott Palguta</td>\n",
       "      <td>33</td>\n",
       "      <td>188</td>\n",
       "      <td>87</td>\n",
       "      <td>1</td>\n",
       "      <td>1</td>\n",
       "      <td>1</td>\n",
       "      <td>1</td>\n",
       "      <td>1</td>\n",
       "      <td>1</td>\n",
       "      <td>...</td>\n",
       "      <td>8</td>\n",
       "      <td>11</td>\n",
       "      <td>2</td>\n",
       "      <td>15</td>\n",
       "      <td>8</td>\n",
       "      <td>11</td>\n",
       "      <td>11</td>\n",
       "      <td>10</td>\n",
       "      <td>7</td>\n",
       "      <td>2800</td>\n",
       "    </tr>\n",
       "    <tr>\n",
       "      <th>981959</th>\n",
       "      <td>Jamie Dodds</td>\n",
       "      <td>34</td>\n",
       "      <td>183</td>\n",
       "      <td>75</td>\n",
       "      <td>1</td>\n",
       "      <td>1</td>\n",
       "      <td>1</td>\n",
       "      <td>1</td>\n",
       "      <td>1</td>\n",
       "      <td>1</td>\n",
       "      <td>...</td>\n",
       "      <td>11</td>\n",
       "      <td>19</td>\n",
       "      <td>12</td>\n",
       "      <td>11</td>\n",
       "      <td>10</td>\n",
       "      <td>10</td>\n",
       "      <td>12</td>\n",
       "      <td>19</td>\n",
       "      <td>3</td>\n",
       "      <td>3800</td>\n",
       "    </tr>\n",
       "    <tr>\n",
       "      <th>981962</th>\n",
       "      <td>Desmond Tachie</td>\n",
       "      <td>32</td>\n",
       "      <td>178</td>\n",
       "      <td>75</td>\n",
       "      <td>1</td>\n",
       "      <td>1</td>\n",
       "      <td>1</td>\n",
       "      <td>1</td>\n",
       "      <td>1</td>\n",
       "      <td>1</td>\n",
       "      <td>...</td>\n",
       "      <td>8</td>\n",
       "      <td>11</td>\n",
       "      <td>13</td>\n",
       "      <td>11</td>\n",
       "      <td>12</td>\n",
       "      <td>11</td>\n",
       "      <td>12</td>\n",
       "      <td>13</td>\n",
       "      <td>3</td>\n",
       "      <td>4600</td>\n",
       "    </tr>\n",
       "    <tr>\n",
       "      <th>981967</th>\n",
       "      <td>Joey Gjertsen</td>\n",
       "      <td>34</td>\n",
       "      <td>176</td>\n",
       "      <td>71</td>\n",
       "      <td>1</td>\n",
       "      <td>1</td>\n",
       "      <td>1</td>\n",
       "      <td>1</td>\n",
       "      <td>1</td>\n",
       "      <td>1</td>\n",
       "      <td>...</td>\n",
       "      <td>13</td>\n",
       "      <td>13</td>\n",
       "      <td>9</td>\n",
       "      <td>11</td>\n",
       "      <td>11</td>\n",
       "      <td>14</td>\n",
       "      <td>15</td>\n",
       "      <td>14</td>\n",
       "      <td>2</td>\n",
       "      <td>3500</td>\n",
       "    </tr>\n",
       "    <tr>\n",
       "      <th>981968</th>\n",
       "      <td>Josh Wicks</td>\n",
       "      <td>32</td>\n",
       "      <td>192</td>\n",
       "      <td>102</td>\n",
       "      <td>11</td>\n",
       "      <td>11</td>\n",
       "      <td>13</td>\n",
       "      <td>14</td>\n",
       "      <td>13</td>\n",
       "      <td>14</td>\n",
       "      <td>...</td>\n",
       "      <td>10</td>\n",
       "      <td>18</td>\n",
       "      <td>10</td>\n",
       "      <td>4</td>\n",
       "      <td>9</td>\n",
       "      <td>11</td>\n",
       "      <td>9</td>\n",
       "      <td>5</td>\n",
       "      <td>8</td>\n",
       "      <td>100</td>\n",
       "    </tr>\n",
       "  </tbody>\n",
       "</table>\n",
       "<p>159509 rows × 67 columns</p>\n",
       "</div>"
      ],
      "text/plain": [
       "                   Name  Age  Height  Weight  AerialAbility  CommandOfArea  \\\n",
       "UID                                                                          \n",
       "1000055  Wilfred Bamnjo   36     178      79              1              1   \n",
       "1000331        Wang Wei   34     188      90             12              3   \n",
       "1000334        Liu Yang   34     183      70              1              2   \n",
       "1000337         Song Qi   31     170      65              1              3   \n",
       "1000340        Chen Lei   33     181      70              3              3   \n",
       "...                 ...  ...     ...     ...            ...            ...   \n",
       "981931    Scott Palguta   33     188      87              1              1   \n",
       "981959      Jamie Dodds   34     183      75              1              1   \n",
       "981962   Desmond Tachie   32     178      75              1              1   \n",
       "981967    Joey Gjertsen   34     176      71              1              1   \n",
       "981968       Josh Wicks   32     192     102             11             11   \n",
       "\n",
       "         Communication  Eccentricity  Handling  Kicking  ...  Versatility  \\\n",
       "UID                                                      ...                \n",
       "1000055              2             2         3        3  ...            4   \n",
       "1000331              5             1        12        6  ...            6   \n",
       "1000334              4             2         1        1  ...            5   \n",
       "1000337              1             3         2        2  ...            6   \n",
       "1000340              2             3         1        1  ...            5   \n",
       "...                ...           ...       ...      ...  ...          ...   \n",
       "981931               1             1         1        1  ...            8   \n",
       "981959               1             1         1        1  ...           11   \n",
       "981962               1             1         1        1  ...            8   \n",
       "981967               1             1         1        1  ...           13   \n",
       "981968              13            14        13       14  ...           10   \n",
       "\n",
       "         Adaptability  Ambition  Loyalty  Pressure  Professional  \\\n",
       "UID                                                                \n",
       "1000055            20         6        3         9             3   \n",
       "1000331            14        10        7        11            11   \n",
       "1000334             9        11       14         7            11   \n",
       "1000337            16        13       11         9            10   \n",
       "1000340            13        11        9        10            12   \n",
       "...               ...       ...      ...       ...           ...   \n",
       "981931             11         2       15         8            11   \n",
       "981959             19        12       11        10            10   \n",
       "981962             11        13       11        12            11   \n",
       "981967             13         9       11        11            14   \n",
       "981968             18        10        4         9            11   \n",
       "\n",
       "         Sportsmanship  Temperament  Controversy  Actual_Position  \n",
       "UID                                                                \n",
       "1000055             10           14           11             2500  \n",
       "1000331             12           10            6              100  \n",
       "1000334             13           10            8             2500  \n",
       "1000337             13           13            7             4600  \n",
       "1000340             10           19            8             4600  \n",
       "...                ...          ...          ...              ...  \n",
       "981931              11           10            7             2800  \n",
       "981959              12           19            3             3800  \n",
       "981962              12           13            3             4600  \n",
       "981967              15           14            2             3500  \n",
       "981968               9            5            8              100  \n",
       "\n",
       "[159509 rows x 67 columns]"
      ]
     },
     "execution_count": 23,
     "metadata": {},
     "output_type": "execute_result"
    }
   ],
   "source": [
    "df"
   ]
  },
  {
   "cell_type": "code",
   "execution_count": 24,
   "metadata": {},
   "outputs": [
    {
     "data": {
      "text/plain": [
       "<matplotlib.axes._subplots.AxesSubplot at 0xac801382c8>"
      ]
     },
     "execution_count": 24,
     "metadata": {},
     "output_type": "execute_result"
    },
    {
     "data": {
      "image/png": "[encoded data removed]",
      "text/plain": [
       "<Figure size 432x288 with 1 Axes>"
      ]
     },
     "metadata": {
      "needs_background": "light"
     },
     "output_type": "display_data"
    }
   ],
   "source": [
    "l = df.groupby(['Controversy'])['Actual_Position'].mean()\n",
    "l.plot()"
   ]
  },
  {
   "cell_type": "markdown",
   "metadata": {},
   "source": [
    "We will use heatmaps and correlation coefficient.\n",
    "\n",
    "The standard cutoff is that the magnitude of Correlation coefficient must be \n",
    "* between 0.3-0.7 - Moderately significant variable\n",
    "* above 0.7 - Highly significant\n",
    "* below 0.3 - not significant / can be discarded"
   ]
  },
  {
   "cell_type": "code",
   "execution_count": 25,
   "metadata": {},
   "outputs": [
    {
     "data": {
      "text/plain": [
       "<matplotlib.axes._subplots.AxesSubplot at 0xac80383b48>"
      ]
     },
     "execution_count": 25,
     "metadata": {},
     "output_type": "execute_result"
    },
    {
     "data": {
      "image/png": "[encoded data removed]",
      "text/plain": [
       "<Figure size 432x288 with 2 Axes>"
      ]
     },
     "metadata": {
      "needs_background": "light"
     },
     "output_type": "display_data"
    }
   ],
   "source": [
    "r = df[[ 'Versatility', 'Adaptability', 'Ambition', 'Loyalty',\n",
    "       'Pressure', 'Professional', 'Sportsmanship', 'Temperament',\n",
    "       'Controversy','Actual_Position']]\n",
    "sns.heatmap(r.corr(),annot=True,fmt=\".1f\")"
   ]
  },
  {
   "cell_type": "markdown",
   "metadata": {},
   "source": [
    "So, the above attributes have no correlation with the position\n",
    "\n",
    "Therefore, we drop the columns."
   ]
  },
  {
   "cell_type": "code",
   "execution_count": 26,
   "metadata": {},
   "outputs": [],
   "source": [
    "df = df.drop([ 'Versatility', 'Adaptability', 'Ambition', 'Loyalty',\n",
    "       'Pressure', 'Professional', 'Sportsmanship', 'Temperament',\n",
    "       'Controversy'],axis=1)"
   ]
  },
  {
   "cell_type": "code",
   "execution_count": 27,
   "metadata": {},
   "outputs": [
    {
     "data": {
      "text/plain": [
       "<matplotlib.axes._subplots.AxesSubplot at 0xac80a0d308>"
      ]
     },
     "execution_count": 27,
     "metadata": {},
     "output_type": "execute_result"
    },
    {
     "data": {
      "image/png": "[encoded data removed]",
      "text/plain": [
       "<Figure size 432x288 with 2 Axes>"
      ]
     },
     "metadata": {
      "needs_background": "light"
     },
     "output_type": "display_data"
    }
   ],
   "source": [
    "r = df[['Consistency', 'Dirtiness', 'ImportantMatches',\n",
    "       'InjuryProness','Actual_Position']]\n",
    "sns.heatmap(r.corr(),annot=True)"
   ]
  },
  {
   "cell_type": "code",
   "execution_count": 28,
   "metadata": {},
   "outputs": [],
   "source": [
    "df = df.drop(['Consistency', 'Dirtiness', 'ImportantMatches',\n",
    "       'InjuryProness'],axis=1)"
   ]
  },
  {
   "cell_type": "code",
   "execution_count": 29,
   "metadata": {},
   "outputs": [
    {
     "data": {
      "text/plain": [
       "Index(['Name', 'Age', 'Height', 'Weight', 'AerialAbility', 'CommandOfArea',\n",
       "       'Communication', 'Eccentricity', 'Handling', 'Kicking', 'OneOnOnes',\n",
       "       'Reflexes', 'RushingOut', 'TendencyToPunch', 'Throwing', 'Corners',\n",
       "       'Crossing', 'Dribbling', 'Finishing', 'FirstTouch', 'Freekicks',\n",
       "       'Heading', 'LongShots', 'Longthrows', 'Marking', 'Passing',\n",
       "       'PenaltyTaking', 'Tackling', 'Technique', 'Aggression', 'Anticipation',\n",
       "       'Bravery', 'Composure', 'Concentration', 'Vision', 'Decisions',\n",
       "       'Determination', 'Flair', 'Leadership', 'OffTheBall', 'Positioning',\n",
       "       'Teamwork', 'Workrate', 'Acceleration', 'Agility', 'Balance', 'Jumping',\n",
       "       'LeftFoot', 'NaturalFitness', 'Pace', 'RightFoot', 'Stamina',\n",
       "       'Strength', 'Actual_Position'],\n",
       "      dtype='object')"
      ]
     },
     "execution_count": 29,
     "metadata": {},
     "output_type": "execute_result"
    }
   ],
   "source": [
    "df.columns"
   ]
  },
  {
   "cell_type": "code",
   "execution_count": 30,
   "metadata": {},
   "outputs": [
    {
     "data": {
      "text/plain": [
       "<matplotlib.axes._subplots.AxesSubplot at 0xac80ad8348>"
      ]
     },
     "execution_count": 30,
     "metadata": {},
     "output_type": "execute_result"
    },
    {
     "data": {
      "image/png": "[encoded data removed]",
      "text/plain": [
       "<Figure size 432x288 with 2 Axes>"
      ]
     },
     "metadata": {
      "needs_background": "light"
     },
     "output_type": "display_data"
    }
   ],
   "source": [
    "d1 = df[['Name', 'Age', 'Height', 'Weight','Actual_Position']]\n",
    "sns.heatmap(d1.corr(),annot=True,cmap='flag')"
   ]
  },
  {
   "cell_type": "markdown",
   "metadata": {},
   "source": [
    "Therefore,height has a good correlation with the position."
   ]
  },
  {
   "cell_type": "code",
   "execution_count": 31,
   "metadata": {},
   "outputs": [],
   "source": [
    "df=df.drop(['Name', 'Age', 'Weight'],axis=1)"
   ]
  },
  {
   "cell_type": "code",
   "execution_count": 32,
   "metadata": {},
   "outputs": [
    {
     "data": {
      "text/plain": [
       "<matplotlib.axes._subplots.AxesSubplot at 0xac816f0dc8>"
      ]
     },
     "execution_count": 32,
     "metadata": {},
     "output_type": "execute_result"
    },
    {
     "data": {
      "image/png": "[encoded data removed]",
      "text/plain": [
       "<Figure size 432x288 with 2 Axes>"
      ]
     },
     "metadata": {
      "needs_background": "light"
     },
     "output_type": "display_data"
    }
   ],
   "source": [
    "d2 = df[['AerialAbility', 'CommandOfArea',\n",
    "       'Communication', 'Eccentricity', 'Handling','Actual_Position']]\n",
    "sns.heatmap(d2.corr(),annot=True,cmap='CMRmap')"
   ]
  },
  {
   "cell_type": "markdown",
   "metadata": {},
   "source": [
    "So,all these attributes have a very good correlation with actual_position and with each other. (except maybe eccentricity)"
   ]
  },
  {
   "cell_type": "code",
   "execution_count": 33,
   "metadata": {},
   "outputs": [
    {
     "data": {
      "text/plain": [
       "<matplotlib.axes._subplots.AxesSubplot at 0xac80f8e588>"
      ]
     },
     "execution_count": 33,
     "metadata": {},
     "output_type": "execute_result"
    },
    {
     "data": {
      "image/png": "[encoded data removed]",
      "text/plain": [
       "<Figure size 432x288 with 2 Axes>"
      ]
     },
     "metadata": {
      "needs_background": "light"
     },
     "output_type": "display_data"
    }
   ],
   "source": [
    "d3 = df[['Kicking', 'OneOnOnes',\n",
    "       'Reflexes', 'RushingOut', 'TendencyToPunch', 'Throwing','Actual_Position']]\n",
    "sns.heatmap(d3.corr(),annot=True)"
   ]
  },
  {
   "cell_type": "markdown",
   "metadata": {},
   "source": [
    "The above two correlation plots suggest that the variables arew closely related with each other(All have similar and strongcorrelation with each other). So let us see if we can combine the variables into a single one and study its correlation with the Position variable."
   ]
  },
  {
   "cell_type": "markdown",
   "metadata": {},
   "source": [
    "This is expected as if you have some basic football knowledge, you would easily guess that the above two variable sets are Goalkeepeing attributes"
   ]
  },
  {
   "cell_type": "code",
   "execution_count": 34,
   "metadata": {},
   "outputs": [
    {
     "name": "stderr",
     "output_type": "stream",
     "text": [
      "C:\\Users\\Nilay\\anaconda3\\lib\\site-packages\\ipykernel_launcher.py:1: SettingWithCopyWarning: \n",
      "A value is trying to be set on a copy of a slice from a DataFrame.\n",
      "Try using .loc[row_indexer,col_indexer] = value instead\n",
      "\n",
      "See the caveats in the documentation: https://pandas.pydata.org/pandas-docs/stable/user_guide/indexing.html#returning-a-view-versus-a-copy\n",
      "  \"\"\"Entry point for launching an IPython kernel.\n"
     ]
    },
    {
     "data": {
      "text/plain": [
       "<matplotlib.axes._subplots.AxesSubplot at 0xac817a43c8>"
      ]
     },
     "execution_count": 34,
     "metadata": {},
     "output_type": "execute_result"
    },
    {
     "data": {
      "image/png": "[encoded data removed]",
      "text/plain": [
       "<Figure size 432x288 with 2 Axes>"
      ]
     },
     "metadata": {
      "needs_background": "light"
     },
     "output_type": "display_data"
    }
   ],
   "source": [
    "d2['gk_attributes1']= d2.iloc[:,0:5].mean(axis=1)\n",
    "sns.heatmap(d2.corr(),annot=True,cmap='cividis')"
   ]
  },
  {
   "cell_type": "code",
   "execution_count": 35,
   "metadata": {},
   "outputs": [],
   "source": [
    "d2 = d2.drop(['AerialAbility', 'CommandOfArea',\n",
    "       'Communication', 'Eccentricity', 'Handling'],axis=1)"
   ]
  },
  {
   "cell_type": "markdown",
   "metadata": {},
   "source": [
    "So, we can replace this in actual dataframe "
   ]
  },
  {
   "cell_type": "code",
   "execution_count": 36,
   "metadata": {},
   "outputs": [],
   "source": [
    "df['gk_attributes1'] = d2['gk_attributes1']"
   ]
  },
  {
   "cell_type": "markdown",
   "metadata": {},
   "source": [
    "Similarly for the other Goalkeeping attributes"
   ]
  },
  {
   "cell_type": "code",
   "execution_count": 37,
   "metadata": {},
   "outputs": [
    {
     "name": "stderr",
     "output_type": "stream",
     "text": [
      "C:\\Users\\Nilay\\anaconda3\\lib\\site-packages\\ipykernel_launcher.py:1: SettingWithCopyWarning: \n",
      "A value is trying to be set on a copy of a slice from a DataFrame.\n",
      "Try using .loc[row_indexer,col_indexer] = value instead\n",
      "\n",
      "See the caveats in the documentation: https://pandas.pydata.org/pandas-docs/stable/user_guide/indexing.html#returning-a-view-versus-a-copy\n",
      "  \"\"\"Entry point for launching an IPython kernel.\n"
     ]
    },
    {
     "data": {
      "text/plain": [
       "<matplotlib.axes._subplots.AxesSubplot at 0xac818d8d48>"
      ]
     },
     "execution_count": 37,
     "metadata": {},
     "output_type": "execute_result"
    },
    {
     "data": {
      "image/png": "[encoded data removed]",
      "text/plain": [
       "<Figure size 432x288 with 2 Axes>"
      ]
     },
     "metadata": {
      "needs_background": "light"
     },
     "output_type": "display_data"
    }
   ],
   "source": [
    "d3['gk_attributes2']= d3.iloc[:,0:6].mean(axis=1)\n",
    "sns.heatmap(d3.corr(),annot=True,cmap='ocean')"
   ]
  },
  {
   "cell_type": "code",
   "execution_count": 38,
   "metadata": {},
   "outputs": [],
   "source": [
    "df['gk_attributes2'] = d3['gk_attributes2']"
   ]
  },
  {
   "cell_type": "code",
   "execution_count": 39,
   "metadata": {},
   "outputs": [],
   "source": [
    "df = df.drop(['AerialAbility', 'CommandOfArea',\n",
    "       'Communication', 'Eccentricity', 'Handling', 'Kicking', 'OneOnOnes',\n",
    "       'Reflexes', 'RushingOut', 'TendencyToPunch', 'Throwing'],axis=1)"
   ]
  },
  {
   "cell_type": "code",
   "execution_count": 40,
   "metadata": {},
   "outputs": [
    {
     "data": {
      "text/plain": [
       "<matplotlib.axes._subplots.AxesSubplot at 0xac822f6ec8>"
      ]
     },
     "execution_count": 40,
     "metadata": {},
     "output_type": "execute_result"
    },
    {
     "data": {
      "image/png": "[encoded data removed]",
      "text/plain": [
       "<Figure size 432x288 with 2 Axes>"
      ]
     },
     "metadata": {
      "needs_background": "light"
     },
     "output_type": "display_data"
    }
   ],
   "source": [
    "d4 = df[['Crossing', 'Dribbling', 'Finishing', 'FirstTouch','Heading', 'LongShots','Actual_Position']]\n",
    "sns.heatmap(d4.corr(),annot=True,cmap='inferno')"
   ]
  },
  {
   "cell_type": "markdown",
   "metadata": {},
   "source": [
    "So, heading and crossing are not a conclusive ability in determining position.Lets drop heading and see how the average of other abilities fares"
   ]
  },
  {
   "cell_type": "code",
   "execution_count": 41,
   "metadata": {},
   "outputs": [
    {
     "name": "stderr",
     "output_type": "stream",
     "text": [
      "C:\\Users\\Nilay\\anaconda3\\lib\\site-packages\\ipykernel_launcher.py:2: SettingWithCopyWarning: \n",
      "A value is trying to be set on a copy of a slice from a DataFrame.\n",
      "Try using .loc[row_indexer,col_indexer] = value instead\n",
      "\n",
      "See the caveats in the documentation: https://pandas.pydata.org/pandas-docs/stable/user_guide/indexing.html#returning-a-view-versus-a-copy\n",
      "  \n"
     ]
    },
    {
     "data": {
      "text/plain": [
       "<matplotlib.axes._subplots.AxesSubplot at 0xac819d8248>"
      ]
     },
     "execution_count": 41,
     "metadata": {},
     "output_type": "execute_result"
    },
    {
     "data": {
      "image/png": "[encoded data removed]",
      "text/plain": [
       "<Figure size 432x288 with 2 Axes>"
      ]
     },
     "metadata": {
      "needs_background": "light"
     },
     "output_type": "display_data"
    }
   ],
   "source": [
    "d4 =  df[['Dribbling', 'Finishing', 'FirstTouch', 'LongShots','Actual_Position']]\n",
    "d4['Attacking_abilities'] = d4.iloc[:,0:4].mean(axis=1)\n",
    "sns.heatmap(d4.corr(),annot=True,cmap='prism')"
   ]
  },
  {
   "cell_type": "code",
   "execution_count": 42,
   "metadata": {},
   "outputs": [
    {
     "data": {
      "text/html": [
       "<div>\n",
       "<style scoped>\n",
       "    .dataframe tbody tr th:only-of-type {\n",
       "        vertical-align: middle;\n",
       "    }\n",
       "\n",
       "    .dataframe tbody tr th {\n",
       "        vertical-align: top;\n",
       "    }\n",
       "\n",
       "    .dataframe thead th {\n",
       "        text-align: right;\n",
       "    }\n",
       "</style>\n",
       "<table border=\"1\" class=\"dataframe\">\n",
       "  <thead>\n",
       "    <tr style=\"text-align: right;\">\n",
       "      <th></th>\n",
       "      <th>Height</th>\n",
       "      <th>Corners</th>\n",
       "      <th>Freekicks</th>\n",
       "      <th>Longthrows</th>\n",
       "      <th>Marking</th>\n",
       "      <th>Passing</th>\n",
       "      <th>PenaltyTaking</th>\n",
       "      <th>Tackling</th>\n",
       "      <th>Technique</th>\n",
       "      <th>Aggression</th>\n",
       "      <th>...</th>\n",
       "      <th>LeftFoot</th>\n",
       "      <th>NaturalFitness</th>\n",
       "      <th>Pace</th>\n",
       "      <th>RightFoot</th>\n",
       "      <th>Stamina</th>\n",
       "      <th>Strength</th>\n",
       "      <th>Actual_Position</th>\n",
       "      <th>gk_attributes1</th>\n",
       "      <th>gk_attributes2</th>\n",
       "      <th>Attacking_abilities</th>\n",
       "    </tr>\n",
       "    <tr>\n",
       "      <th>UID</th>\n",
       "      <th></th>\n",
       "      <th></th>\n",
       "      <th></th>\n",
       "      <th></th>\n",
       "      <th></th>\n",
       "      <th></th>\n",
       "      <th></th>\n",
       "      <th></th>\n",
       "      <th></th>\n",
       "      <th></th>\n",
       "      <th></th>\n",
       "      <th></th>\n",
       "      <th></th>\n",
       "      <th></th>\n",
       "      <th></th>\n",
       "      <th></th>\n",
       "      <th></th>\n",
       "      <th></th>\n",
       "      <th></th>\n",
       "      <th></th>\n",
       "      <th></th>\n",
       "    </tr>\n",
       "  </thead>\n",
       "  <tbody>\n",
       "    <tr>\n",
       "      <th>1000055</th>\n",
       "      <td>178</td>\n",
       "      <td>3</td>\n",
       "      <td>4</td>\n",
       "      <td>1</td>\n",
       "      <td>6</td>\n",
       "      <td>6</td>\n",
       "      <td>2</td>\n",
       "      <td>12</td>\n",
       "      <td>9</td>\n",
       "      <td>15</td>\n",
       "      <td>...</td>\n",
       "      <td>12</td>\n",
       "      <td>12</td>\n",
       "      <td>6</td>\n",
       "      <td>20</td>\n",
       "      <td>5</td>\n",
       "      <td>12</td>\n",
       "      <td>2500</td>\n",
       "      <td>1.8</td>\n",
       "      <td>2.000000</td>\n",
       "      <td>9.00</td>\n",
       "    </tr>\n",
       "    <tr>\n",
       "      <th>1000331</th>\n",
       "      <td>188</td>\n",
       "      <td>3</td>\n",
       "      <td>6</td>\n",
       "      <td>1</td>\n",
       "      <td>3</td>\n",
       "      <td>1</td>\n",
       "      <td>3</td>\n",
       "      <td>2</td>\n",
       "      <td>1</td>\n",
       "      <td>6</td>\n",
       "      <td>...</td>\n",
       "      <td>11</td>\n",
       "      <td>5</td>\n",
       "      <td>8</td>\n",
       "      <td>20</td>\n",
       "      <td>1</td>\n",
       "      <td>7</td>\n",
       "      <td>100</td>\n",
       "      <td>6.6</td>\n",
       "      <td>4.333333</td>\n",
       "      <td>1.75</td>\n",
       "    </tr>\n",
       "    <tr>\n",
       "      <th>1000334</th>\n",
       "      <td>183</td>\n",
       "      <td>3</td>\n",
       "      <td>3</td>\n",
       "      <td>1</td>\n",
       "      <td>5</td>\n",
       "      <td>8</td>\n",
       "      <td>2</td>\n",
       "      <td>10</td>\n",
       "      <td>6</td>\n",
       "      <td>5</td>\n",
       "      <td>...</td>\n",
       "      <td>5</td>\n",
       "      <td>8</td>\n",
       "      <td>6</td>\n",
       "      <td>20</td>\n",
       "      <td>4</td>\n",
       "      <td>9</td>\n",
       "      <td>2500</td>\n",
       "      <td>2.0</td>\n",
       "      <td>2.000000</td>\n",
       "      <td>6.00</td>\n",
       "    </tr>\n",
       "    <tr>\n",
       "      <th>1000337</th>\n",
       "      <td>170</td>\n",
       "      <td>3</td>\n",
       "      <td>3</td>\n",
       "      <td>1</td>\n",
       "      <td>2</td>\n",
       "      <td>3</td>\n",
       "      <td>2</td>\n",
       "      <td>1</td>\n",
       "      <td>9</td>\n",
       "      <td>6</td>\n",
       "      <td>...</td>\n",
       "      <td>2</td>\n",
       "      <td>8</td>\n",
       "      <td>7</td>\n",
       "      <td>20</td>\n",
       "      <td>6</td>\n",
       "      <td>6</td>\n",
       "      <td>4600</td>\n",
       "      <td>2.0</td>\n",
       "      <td>2.000000</td>\n",
       "      <td>5.75</td>\n",
       "    </tr>\n",
       "    <tr>\n",
       "      <th>1000340</th>\n",
       "      <td>181</td>\n",
       "      <td>1</td>\n",
       "      <td>1</td>\n",
       "      <td>1</td>\n",
       "      <td>1</td>\n",
       "      <td>2</td>\n",
       "      <td>4</td>\n",
       "      <td>1</td>\n",
       "      <td>3</td>\n",
       "      <td>5</td>\n",
       "      <td>...</td>\n",
       "      <td>5</td>\n",
       "      <td>5</td>\n",
       "      <td>8</td>\n",
       "      <td>20</td>\n",
       "      <td>2</td>\n",
       "      <td>5</td>\n",
       "      <td>4600</td>\n",
       "      <td>2.4</td>\n",
       "      <td>2.166667</td>\n",
       "      <td>5.25</td>\n",
       "    </tr>\n",
       "    <tr>\n",
       "      <th>...</th>\n",
       "      <td>...</td>\n",
       "      <td>...</td>\n",
       "      <td>...</td>\n",
       "      <td>...</td>\n",
       "      <td>...</td>\n",
       "      <td>...</td>\n",
       "      <td>...</td>\n",
       "      <td>...</td>\n",
       "      <td>...</td>\n",
       "      <td>...</td>\n",
       "      <td>...</td>\n",
       "      <td>...</td>\n",
       "      <td>...</td>\n",
       "      <td>...</td>\n",
       "      <td>...</td>\n",
       "      <td>...</td>\n",
       "      <td>...</td>\n",
       "      <td>...</td>\n",
       "      <td>...</td>\n",
       "      <td>...</td>\n",
       "      <td>...</td>\n",
       "    </tr>\n",
       "    <tr>\n",
       "      <th>981931</th>\n",
       "      <td>188</td>\n",
       "      <td>3</td>\n",
       "      <td>3</td>\n",
       "      <td>10</td>\n",
       "      <td>12</td>\n",
       "      <td>10</td>\n",
       "      <td>10</td>\n",
       "      <td>12</td>\n",
       "      <td>9</td>\n",
       "      <td>13</td>\n",
       "      <td>...</td>\n",
       "      <td>20</td>\n",
       "      <td>14</td>\n",
       "      <td>11</td>\n",
       "      <td>8</td>\n",
       "      <td>13</td>\n",
       "      <td>13</td>\n",
       "      <td>2800</td>\n",
       "      <td>1.0</td>\n",
       "      <td>1.000000</td>\n",
       "      <td>6.25</td>\n",
       "    </tr>\n",
       "    <tr>\n",
       "      <th>981959</th>\n",
       "      <td>183</td>\n",
       "      <td>12</td>\n",
       "      <td>13</td>\n",
       "      <td>4</td>\n",
       "      <td>6</td>\n",
       "      <td>9</td>\n",
       "      <td>14</td>\n",
       "      <td>8</td>\n",
       "      <td>11</td>\n",
       "      <td>10</td>\n",
       "      <td>...</td>\n",
       "      <td>9</td>\n",
       "      <td>15</td>\n",
       "      <td>8</td>\n",
       "      <td>20</td>\n",
       "      <td>7</td>\n",
       "      <td>8</td>\n",
       "      <td>3800</td>\n",
       "      <td>1.0</td>\n",
       "      <td>1.000000</td>\n",
       "      <td>10.50</td>\n",
       "    </tr>\n",
       "    <tr>\n",
       "      <th>981962</th>\n",
       "      <td>178</td>\n",
       "      <td>7</td>\n",
       "      <td>6</td>\n",
       "      <td>4</td>\n",
       "      <td>3</td>\n",
       "      <td>6</td>\n",
       "      <td>6</td>\n",
       "      <td>1</td>\n",
       "      <td>12</td>\n",
       "      <td>8</td>\n",
       "      <td>...</td>\n",
       "      <td>20</td>\n",
       "      <td>10</td>\n",
       "      <td>8</td>\n",
       "      <td>11</td>\n",
       "      <td>13</td>\n",
       "      <td>7</td>\n",
       "      <td>4600</td>\n",
       "      <td>1.0</td>\n",
       "      <td>1.000000</td>\n",
       "      <td>8.50</td>\n",
       "    </tr>\n",
       "    <tr>\n",
       "      <th>981967</th>\n",
       "      <td>176</td>\n",
       "      <td>9</td>\n",
       "      <td>8</td>\n",
       "      <td>7</td>\n",
       "      <td>9</td>\n",
       "      <td>11</td>\n",
       "      <td>7</td>\n",
       "      <td>9</td>\n",
       "      <td>10</td>\n",
       "      <td>11</td>\n",
       "      <td>...</td>\n",
       "      <td>8</td>\n",
       "      <td>14</td>\n",
       "      <td>11</td>\n",
       "      <td>20</td>\n",
       "      <td>12</td>\n",
       "      <td>8</td>\n",
       "      <td>3500</td>\n",
       "      <td>1.0</td>\n",
       "      <td>1.000000</td>\n",
       "      <td>8.75</td>\n",
       "    </tr>\n",
       "    <tr>\n",
       "      <th>981968</th>\n",
       "      <td>192</td>\n",
       "      <td>3</td>\n",
       "      <td>4</td>\n",
       "      <td>2</td>\n",
       "      <td>2</td>\n",
       "      <td>3</td>\n",
       "      <td>2</td>\n",
       "      <td>2</td>\n",
       "      <td>7</td>\n",
       "      <td>15</td>\n",
       "      <td>...</td>\n",
       "      <td>5</td>\n",
       "      <td>10</td>\n",
       "      <td>10</td>\n",
       "      <td>20</td>\n",
       "      <td>10</td>\n",
       "      <td>16</td>\n",
       "      <td>100</td>\n",
       "      <td>12.4</td>\n",
       "      <td>12.333333</td>\n",
       "      <td>2.50</td>\n",
       "    </tr>\n",
       "  </tbody>\n",
       "</table>\n",
       "<p>159509 rows × 37 columns</p>\n",
       "</div>"
      ],
      "text/plain": [
       "         Height  Corners  Freekicks  Longthrows  Marking  Passing  \\\n",
       "UID                                                                 \n",
       "1000055     178        3          4           1        6        6   \n",
       "1000331     188        3          6           1        3        1   \n",
       "1000334     183        3          3           1        5        8   \n",
       "1000337     170        3          3           1        2        3   \n",
       "1000340     181        1          1           1        1        2   \n",
       "...         ...      ...        ...         ...      ...      ...   \n",
       "981931      188        3          3          10       12       10   \n",
       "981959      183       12         13           4        6        9   \n",
       "981962      178        7          6           4        3        6   \n",
       "981967      176        9          8           7        9       11   \n",
       "981968      192        3          4           2        2        3   \n",
       "\n",
       "         PenaltyTaking  Tackling  Technique  Aggression  ...  LeftFoot  \\\n",
       "UID                                                      ...             \n",
       "1000055              2        12          9          15  ...        12   \n",
       "1000331              3         2          1           6  ...        11   \n",
       "1000334              2        10          6           5  ...         5   \n",
       "1000337              2         1          9           6  ...         2   \n",
       "1000340              4         1          3           5  ...         5   \n",
       "...                ...       ...        ...         ...  ...       ...   \n",
       "981931              10        12          9          13  ...        20   \n",
       "981959              14         8         11          10  ...         9   \n",
       "981962               6         1         12           8  ...        20   \n",
       "981967               7         9         10          11  ...         8   \n",
       "981968               2         2          7          15  ...         5   \n",
       "\n",
       "         NaturalFitness  Pace  RightFoot  Stamina  Strength  Actual_Position  \\\n",
       "UID                                                                            \n",
       "1000055              12     6         20        5        12             2500   \n",
       "1000331               5     8         20        1         7              100   \n",
       "1000334               8     6         20        4         9             2500   \n",
       "1000337               8     7         20        6         6             4600   \n",
       "1000340               5     8         20        2         5             4600   \n",
       "...                 ...   ...        ...      ...       ...              ...   \n",
       "981931               14    11          8       13        13             2800   \n",
       "981959               15     8         20        7         8             3800   \n",
       "981962               10     8         11       13         7             4600   \n",
       "981967               14    11         20       12         8             3500   \n",
       "981968               10    10         20       10        16              100   \n",
       "\n",
       "         gk_attributes1  gk_attributes2  Attacking_abilities  \n",
       "UID                                                           \n",
       "1000055             1.8        2.000000                 9.00  \n",
       "1000331             6.6        4.333333                 1.75  \n",
       "1000334             2.0        2.000000                 6.00  \n",
       "1000337             2.0        2.000000                 5.75  \n",
       "1000340             2.4        2.166667                 5.25  \n",
       "...                 ...             ...                  ...  \n",
       "981931              1.0        1.000000                 6.25  \n",
       "981959              1.0        1.000000                10.50  \n",
       "981962              1.0        1.000000                 8.50  \n",
       "981967              1.0        1.000000                 8.75  \n",
       "981968             12.4       12.333333                 2.50  \n",
       "\n",
       "[159509 rows x 37 columns]"
      ]
     },
     "execution_count": 42,
     "metadata": {},
     "output_type": "execute_result"
    }
   ],
   "source": [
    "df['Attacking_abilities'] = d4['Attacking_abilities']\n",
    "df = df.drop(['Crossing', 'Dribbling', 'Finishing', 'FirstTouch','Heading', 'LongShots'],axis=1)\n",
    "df"
   ]
  },
  {
   "cell_type": "code",
   "execution_count": 43,
   "metadata": {},
   "outputs": [
    {
     "data": {
      "text/plain": [
       "<matplotlib.axes._subplots.AxesSubplot at 0xac819c6708>"
      ]
     },
     "execution_count": 43,
     "metadata": {},
     "output_type": "execute_result"
    },
    {
     "data": {
      "image/png": "[encoded data removed]",
      "text/plain": [
       "<Figure size 432x288 with 2 Axes>"
      ]
     },
     "metadata": {
      "needs_background": "light"
     },
     "output_type": "display_data"
    }
   ],
   "source": [
    "d5 = df[['Corners','Freekicks','PenaltyTaking','Longthrows','Actual_Position']]\n",
    "sns.heatmap(d5.corr(),annot=True,cmap='gnuplot')"
   ]
  },
  {
   "cell_type": "markdown",
   "metadata": {},
   "source": [
    "So, none of these abilities has a definite correlation with the position. So, we can drop these columns."
   ]
  },
  {
   "cell_type": "code",
   "execution_count": 44,
   "metadata": {},
   "outputs": [
    {
     "data": {
      "text/plain": [
       "Index(['Height', 'Marking', 'Passing', 'Tackling', 'Technique', 'Aggression',\n",
       "       'Anticipation', 'Bravery', 'Composure', 'Concentration', 'Vision',\n",
       "       'Decisions', 'Determination', 'Flair', 'Leadership', 'OffTheBall',\n",
       "       'Positioning', 'Teamwork', 'Workrate', 'Acceleration', 'Agility',\n",
       "       'Balance', 'Jumping', 'LeftFoot', 'NaturalFitness', 'Pace', 'RightFoot',\n",
       "       'Stamina', 'Strength', 'Actual_Position', 'gk_attributes1',\n",
       "       'gk_attributes2', 'Attacking_abilities'],\n",
       "      dtype='object')"
      ]
     },
     "execution_count": 44,
     "metadata": {},
     "output_type": "execute_result"
    }
   ],
   "source": [
    "df=df.drop(['Corners','Freekicks','PenaltyTaking','Longthrows'],axis=1)\n",
    "df.columns"
   ]
  },
  {
   "cell_type": "code",
   "execution_count": 45,
   "metadata": {},
   "outputs": [
    {
     "data": {
      "text/plain": [
       "<matplotlib.axes._subplots.AxesSubplot at 0xac82992bc8>"
      ]
     },
     "execution_count": 45,
     "metadata": {},
     "output_type": "execute_result"
    },
    {
     "data": {
      "image/png": "[encoded data removed]",
      "text/plain": [
       "<Figure size 432x288 with 2 Axes>"
      ]
     },
     "metadata": {
      "needs_background": "light"
     },
     "output_type": "display_data"
    }
   ],
   "source": [
    "d6 = df[['Marking','Tackling','Strength','Decisions','Positioning','Actual_Position']]\n",
    "sns.heatmap(d6.corr(),annot=True,cmap='gnuplot2')"
   ]
  },
  {
   "cell_type": "markdown",
   "metadata": {},
   "source": [
    "So, we can drop all the columns except positioning"
   ]
  },
  {
   "cell_type": "code",
   "execution_count": 46,
   "metadata": {},
   "outputs": [],
   "source": [
    "df = df.drop(['Marking','Tackling','Strength','Decisions'],axis=1)"
   ]
  },
  {
   "cell_type": "code",
   "execution_count": 47,
   "metadata": {},
   "outputs": [
    {
     "data": {
      "text/plain": [
       "<matplotlib.axes._subplots.AxesSubplot at 0xac83bfa088>"
      ]
     },
     "execution_count": 47,
     "metadata": {},
     "output_type": "execute_result"
    },
    {
     "data": {
      "image/png": "[encoded data removed]",
      "text/plain": [
       "<Figure size 432x288 with 2 Axes>"
      ]
     },
     "metadata": {
      "needs_background": "light"
     },
     "output_type": "display_data"
    }
   ],
   "source": [
    "d7 = df[['Vision','Technique','Teamwork','Flair','Passing','Actual_Position']]\n",
    "sns.heatmap(d7.corr(),annot=True)"
   ]
  },
  {
   "cell_type": "markdown",
   "metadata": {},
   "source": [
    "So, only technique,passing and flair are deterministic to position"
   ]
  },
  {
   "cell_type": "code",
   "execution_count": 48,
   "metadata": {},
   "outputs": [],
   "source": [
    "df = df.drop(['Vision','Teamwork'],axis=1)\n"
   ]
  },
  {
   "cell_type": "code",
   "execution_count": 49,
   "metadata": {},
   "outputs": [
    {
     "data": {
      "text/plain": [
       "Index(['Height', 'Passing', 'Technique', 'Aggression', 'Anticipation',\n",
       "       'Bravery', 'Composure', 'Concentration', 'Determination', 'Flair',\n",
       "       'Leadership', 'OffTheBall', 'Positioning', 'Workrate', 'Acceleration',\n",
       "       'Agility', 'Balance', 'Jumping', 'LeftFoot', 'NaturalFitness', 'Pace',\n",
       "       'RightFoot', 'Stamina', 'Actual_Position', 'gk_attributes1',\n",
       "       'gk_attributes2', 'Attacking_abilities'],\n",
       "      dtype='object')"
      ]
     },
     "execution_count": 49,
     "metadata": {},
     "output_type": "execute_result"
    }
   ],
   "source": [
    "df.columns"
   ]
  },
  {
   "cell_type": "code",
   "execution_count": 50,
   "metadata": {},
   "outputs": [
    {
     "data": {
      "text/plain": [
       "<matplotlib.axes._subplots.AxesSubplot at 0xac84306688>"
      ]
     },
     "execution_count": 50,
     "metadata": {},
     "output_type": "execute_result"
    },
    {
     "data": {
      "image/png": "[encoded data removed]",
      "text/plain": [
       "<Figure size 432x288 with 2 Axes>"
      ]
     },
     "metadata": {
      "needs_background": "light"
     },
     "output_type": "display_data"
    }
   ],
   "source": [
    "d8 = df[['Aggression', 'Anticipation',\n",
    "       'Bravery', 'Composure', 'Concentration', 'Determination','Actual_Position']]\n",
    "sns.heatmap(d8.corr(),annot=True,cmap='brg')"
   ]
  },
  {
   "cell_type": "code",
   "execution_count": 51,
   "metadata": {},
   "outputs": [],
   "source": [
    "df = df.drop(['Aggression', 'Anticipation','Composure', 'Concentration', 'Determination'],axis=1)"
   ]
  },
  {
   "cell_type": "code",
   "execution_count": 52,
   "metadata": {},
   "outputs": [
    {
     "data": {
      "text/plain": [
       "Index(['Height', 'Passing', 'Technique', 'Bravery', 'Flair', 'Leadership',\n",
       "       'OffTheBall', 'Positioning', 'Workrate', 'Acceleration', 'Agility',\n",
       "       'Balance', 'Jumping', 'LeftFoot', 'NaturalFitness', 'Pace', 'RightFoot',\n",
       "       'Stamina', 'Actual_Position', 'gk_attributes1', 'gk_attributes2',\n",
       "       'Attacking_abilities'],\n",
       "      dtype='object')"
      ]
     },
     "execution_count": 52,
     "metadata": {},
     "output_type": "execute_result"
    }
   ],
   "source": [
    "df.columns"
   ]
  },
  {
   "cell_type": "code",
   "execution_count": 53,
   "metadata": {},
   "outputs": [
    {
     "data": {
      "text/plain": [
       "<matplotlib.axes._subplots.AxesSubplot at 0xac8442b188>"
      ]
     },
     "execution_count": 53,
     "metadata": {},
     "output_type": "execute_result"
    },
    {
     "data": {
      "image/png": "[encoded data removed]",
      "text/plain": [
       "<Figure size 432x288 with 2 Axes>"
      ]
     },
     "metadata": {
      "needs_background": "light"
     },
     "output_type": "display_data"
    }
   ],
   "source": [
    "d9 = df[['Leadership','OffTheBall','Workrate','Actual_Position']]\n",
    "sns.heatmap(d9.corr(),annot=True)"
   ]
  },
  {
   "cell_type": "code",
   "execution_count": 54,
   "metadata": {},
   "outputs": [],
   "source": [
    "df = df.drop(['Leadership','Workrate',],axis=1)"
   ]
  },
  {
   "cell_type": "code",
   "execution_count": 55,
   "metadata": {},
   "outputs": [
    {
     "data": {
      "text/plain": [
       "<matplotlib.axes._subplots.AxesSubplot at 0xac844e96c8>"
      ]
     },
     "execution_count": 55,
     "metadata": {},
     "output_type": "execute_result"
    },
    {
     "data": {
      "image/png": "[encoded data removed]",
      "text/plain": [
       "<Figure size 432x288 with 2 Axes>"
      ]
     },
     "metadata": {
      "needs_background": "light"
     },
     "output_type": "display_data"
    }
   ],
   "source": [
    "d10 = df[['Acceleration', 'Agility',\n",
    "       'Balance', 'Jumping', 'NaturalFitness', 'Pace',\n",
    "       'Stamina','Actual_Position']]\n",
    "sns.heatmap(d10.corr(),annot=True)"
   ]
  },
  {
   "cell_type": "markdown",
   "metadata": {},
   "source": [
    "None of the attributes is prominent, so all can be dropped"
   ]
  },
  {
   "cell_type": "code",
   "execution_count": 56,
   "metadata": {},
   "outputs": [],
   "source": [
    "df = df.drop(['Acceleration', 'Agility',\n",
    "       'Balance', 'Jumping', 'NaturalFitness', 'Pace',\n",
    "       'Stamina'],axis=1)"
   ]
  },
  {
   "cell_type": "code",
   "execution_count": 57,
   "metadata": {},
   "outputs": [
    {
     "data": {
      "text/plain": [
       "<matplotlib.axes._subplots.AxesSubplot at 0xac858b2a08>"
      ]
     },
     "execution_count": 57,
     "metadata": {},
     "output_type": "execute_result"
    },
    {
     "data": {
      "image/png": "[encoded data removed]",
      "text/plain": [
       "<Figure size 432x288 with 2 Axes>"
      ]
     },
     "metadata": {
      "needs_background": "light"
     },
     "output_type": "display_data"
    }
   ],
   "source": [
    "d11 = df[['LeftFoot','RightFoot','Actual_Position']]\n",
    "sns.heatmap(d11.corr(),annot=True,cmap='viridis')"
   ]
  },
  {
   "cell_type": "code",
   "execution_count": 60,
   "metadata": {},
   "outputs": [],
   "source": [
    "df = df.drop(['LeftFoot','RightFoot'],axis=1)"
   ]
  },
  {
   "cell_type": "code",
   "execution_count": 61,
   "metadata": {},
   "outputs": [
    {
     "data": {
      "text/html": [
       "<div>\n",
       "<style scoped>\n",
       "    .dataframe tbody tr th:only-of-type {\n",
       "        vertical-align: middle;\n",
       "    }\n",
       "\n",
       "    .dataframe tbody tr th {\n",
       "        vertical-align: top;\n",
       "    }\n",
       "\n",
       "    .dataframe thead th {\n",
       "        text-align: right;\n",
       "    }\n",
       "</style>\n",
       "<table border=\"1\" class=\"dataframe\">\n",
       "  <thead>\n",
       "    <tr style=\"text-align: right;\">\n",
       "      <th></th>\n",
       "      <th>Height</th>\n",
       "      <th>Passing</th>\n",
       "      <th>Technique</th>\n",
       "      <th>Bravery</th>\n",
       "      <th>Flair</th>\n",
       "      <th>OffTheBall</th>\n",
       "      <th>Positioning</th>\n",
       "      <th>Actual_Position</th>\n",
       "      <th>gk_attributes1</th>\n",
       "      <th>gk_attributes2</th>\n",
       "      <th>Attacking_abilities</th>\n",
       "    </tr>\n",
       "    <tr>\n",
       "      <th>UID</th>\n",
       "      <th></th>\n",
       "      <th></th>\n",
       "      <th></th>\n",
       "      <th></th>\n",
       "      <th></th>\n",
       "      <th></th>\n",
       "      <th></th>\n",
       "      <th></th>\n",
       "      <th></th>\n",
       "      <th></th>\n",
       "      <th></th>\n",
       "    </tr>\n",
       "  </thead>\n",
       "  <tbody>\n",
       "    <tr>\n",
       "      <th>1000055</th>\n",
       "      <td>178</td>\n",
       "      <td>6</td>\n",
       "      <td>9</td>\n",
       "      <td>13</td>\n",
       "      <td>7</td>\n",
       "      <td>4</td>\n",
       "      <td>9</td>\n",
       "      <td>2500</td>\n",
       "      <td>1.8</td>\n",
       "      <td>2.000000</td>\n",
       "      <td>9.00</td>\n",
       "    </tr>\n",
       "    <tr>\n",
       "      <th>1000331</th>\n",
       "      <td>188</td>\n",
       "      <td>1</td>\n",
       "      <td>1</td>\n",
       "      <td>12</td>\n",
       "      <td>2</td>\n",
       "      <td>1</td>\n",
       "      <td>8</td>\n",
       "      <td>100</td>\n",
       "      <td>6.6</td>\n",
       "      <td>4.333333</td>\n",
       "      <td>1.75</td>\n",
       "    </tr>\n",
       "    <tr>\n",
       "      <th>1000334</th>\n",
       "      <td>183</td>\n",
       "      <td>8</td>\n",
       "      <td>6</td>\n",
       "      <td>4</td>\n",
       "      <td>5</td>\n",
       "      <td>3</td>\n",
       "      <td>6</td>\n",
       "      <td>2500</td>\n",
       "      <td>2.0</td>\n",
       "      <td>2.000000</td>\n",
       "      <td>6.00</td>\n",
       "    </tr>\n",
       "    <tr>\n",
       "      <th>1000337</th>\n",
       "      <td>170</td>\n",
       "      <td>3</td>\n",
       "      <td>9</td>\n",
       "      <td>1</td>\n",
       "      <td>9</td>\n",
       "      <td>11</td>\n",
       "      <td>2</td>\n",
       "      <td>4600</td>\n",
       "      <td>2.0</td>\n",
       "      <td>2.000000</td>\n",
       "      <td>5.75</td>\n",
       "    </tr>\n",
       "    <tr>\n",
       "      <th>1000340</th>\n",
       "      <td>181</td>\n",
       "      <td>2</td>\n",
       "      <td>3</td>\n",
       "      <td>4</td>\n",
       "      <td>5</td>\n",
       "      <td>9</td>\n",
       "      <td>1</td>\n",
       "      <td>4600</td>\n",
       "      <td>2.4</td>\n",
       "      <td>2.166667</td>\n",
       "      <td>5.25</td>\n",
       "    </tr>\n",
       "    <tr>\n",
       "      <th>...</th>\n",
       "      <td>...</td>\n",
       "      <td>...</td>\n",
       "      <td>...</td>\n",
       "      <td>...</td>\n",
       "      <td>...</td>\n",
       "      <td>...</td>\n",
       "      <td>...</td>\n",
       "      <td>...</td>\n",
       "      <td>...</td>\n",
       "      <td>...</td>\n",
       "      <td>...</td>\n",
       "    </tr>\n",
       "    <tr>\n",
       "      <th>981931</th>\n",
       "      <td>188</td>\n",
       "      <td>10</td>\n",
       "      <td>9</td>\n",
       "      <td>13</td>\n",
       "      <td>5</td>\n",
       "      <td>9</td>\n",
       "      <td>11</td>\n",
       "      <td>2800</td>\n",
       "      <td>1.0</td>\n",
       "      <td>1.000000</td>\n",
       "      <td>6.25</td>\n",
       "    </tr>\n",
       "    <tr>\n",
       "      <th>981959</th>\n",
       "      <td>183</td>\n",
       "      <td>9</td>\n",
       "      <td>11</td>\n",
       "      <td>10</td>\n",
       "      <td>12</td>\n",
       "      <td>9</td>\n",
       "      <td>11</td>\n",
       "      <td>3800</td>\n",
       "      <td>1.0</td>\n",
       "      <td>1.000000</td>\n",
       "      <td>10.50</td>\n",
       "    </tr>\n",
       "    <tr>\n",
       "      <th>981962</th>\n",
       "      <td>178</td>\n",
       "      <td>6</td>\n",
       "      <td>12</td>\n",
       "      <td>5</td>\n",
       "      <td>11</td>\n",
       "      <td>14</td>\n",
       "      <td>7</td>\n",
       "      <td>4600</td>\n",
       "      <td>1.0</td>\n",
       "      <td>1.000000</td>\n",
       "      <td>8.50</td>\n",
       "    </tr>\n",
       "    <tr>\n",
       "      <th>981967</th>\n",
       "      <td>176</td>\n",
       "      <td>11</td>\n",
       "      <td>10</td>\n",
       "      <td>13</td>\n",
       "      <td>14</td>\n",
       "      <td>10</td>\n",
       "      <td>8</td>\n",
       "      <td>3500</td>\n",
       "      <td>1.0</td>\n",
       "      <td>1.000000</td>\n",
       "      <td>8.75</td>\n",
       "    </tr>\n",
       "    <tr>\n",
       "      <th>981968</th>\n",
       "      <td>192</td>\n",
       "      <td>3</td>\n",
       "      <td>7</td>\n",
       "      <td>15</td>\n",
       "      <td>3</td>\n",
       "      <td>1</td>\n",
       "      <td>11</td>\n",
       "      <td>100</td>\n",
       "      <td>12.4</td>\n",
       "      <td>12.333333</td>\n",
       "      <td>2.50</td>\n",
       "    </tr>\n",
       "  </tbody>\n",
       "</table>\n",
       "<p>159509 rows × 11 columns</p>\n",
       "</div>"
      ],
      "text/plain": [
       "         Height  Passing  Technique  Bravery  Flair  OffTheBall  Positioning  \\\n",
       "UID                                                                            \n",
       "1000055     178        6          9       13      7           4            9   \n",
       "1000331     188        1          1       12      2           1            8   \n",
       "1000334     183        8          6        4      5           3            6   \n",
       "1000337     170        3          9        1      9          11            2   \n",
       "1000340     181        2          3        4      5           9            1   \n",
       "...         ...      ...        ...      ...    ...         ...          ...   \n",
       "981931      188       10          9       13      5           9           11   \n",
       "981959      183        9         11       10     12           9           11   \n",
       "981962      178        6         12        5     11          14            7   \n",
       "981967      176       11         10       13     14          10            8   \n",
       "981968      192        3          7       15      3           1           11   \n",
       "\n",
       "         Actual_Position  gk_attributes1  gk_attributes2  Attacking_abilities  \n",
       "UID                                                                            \n",
       "1000055             2500             1.8        2.000000                 9.00  \n",
       "1000331              100             6.6        4.333333                 1.75  \n",
       "1000334             2500             2.0        2.000000                 6.00  \n",
       "1000337             4600             2.0        2.000000                 5.75  \n",
       "1000340             4600             2.4        2.166667                 5.25  \n",
       "...                  ...             ...             ...                  ...  \n",
       "981931              2800             1.0        1.000000                 6.25  \n",
       "981959              3800             1.0        1.000000                10.50  \n",
       "981962              4600             1.0        1.000000                 8.50  \n",
       "981967              3500             1.0        1.000000                 8.75  \n",
       "981968               100            12.4       12.333333                 2.50  \n",
       "\n",
       "[159509 rows x 11 columns]"
      ]
     },
     "execution_count": 61,
     "metadata": {},
     "output_type": "execute_result"
    }
   ],
   "source": [
    "df"
   ]
  },
  {
   "cell_type": "markdown",
   "metadata": {},
   "source": [
    "## Model - Predict, Fit, Deploy, Score"
   ]
  },
  {
   "cell_type": "code",
   "execution_count": 62,
   "metadata": {},
   "outputs": [],
   "source": [
    "X = df.drop(['Actual_Position'],axis=1)\n",
    "y = df['Actual_Position']\n",
    "X_train, X_test, y_train, y_test = train_test_split(X, y, test_size=0.25, random_state=42)"
   ]
  },
  {
   "cell_type": "code",
   "execution_count": 63,
   "metadata": {},
   "outputs": [
    {
     "name": "stdout",
     "output_type": "stream",
     "text": [
      "0.9066081145576872\n",
      "157675.16676162294\n"
     ]
    }
   ],
   "source": [
    "ForestRegressor = RandomForestRegressor(n_estimators=500)\n",
    "ForestRegressor.fit(X_train, y_train)\n",
    "y_test_preds = ForestRegressor.predict(X_test)\n",
    "print(r2_score(y_test, y_test_preds))\n",
    "print(mean_squared_error(y_test, y_test_preds))"
   ]
  },
  {
   "cell_type": "code",
   "execution_count": 64,
   "metadata": {},
   "outputs": [
    {
     "data": {
      "text/plain": [
       "'The r-squared score for your model was 0.8418378778537383 on 39878 values.'"
      ]
     },
     "execution_count": 64,
     "metadata": {},
     "output_type": "execute_result"
    }
   ],
   "source": [
    " from sklearn.linear_model import LinearRegression\n",
    "lm_model = LinearRegression(normalize=True) # Instantiate\n",
    "lm_model.fit(X_train, y_train) #Fit\n",
    "        \n",
    "y_test_preds2 = lm_model.predict(X_test) \n",
    "\"The r-squared score for your model was {} on {} values.\".format(r2_score(y_test, y_test_preds2), len(y_test))"
   ]
  },
  {
   "cell_type": "code",
   "execution_count": 65,
   "metadata": {},
   "outputs": [
    {
     "data": {
      "text/plain": [
       "array([4000, 4100, 3900, ..., 2900,  100, 3300])"
      ]
     },
     "execution_count": 65,
     "metadata": {},
     "output_type": "execute_result"
    }
   ],
   "source": [
    "y_test_pred = (y_test_preds/ 100).astype(int) *100\n",
    "y_test_pred2 = (y_test_preds2/ 100).astype(int) *100\n",
    "y_test_pred"
   ]
  },
  {
   "cell_type": "code",
   "execution_count": 66,
   "metadata": {},
   "outputs": [
    {
     "name": "stdout",
     "output_type": "stream",
     "text": [
      "0.9048885939593159\n"
     ]
    }
   ],
   "source": [
    "print(r2_score(y_test, y_test_pred))"
   ]
  },
  {
   "cell_type": "code",
   "execution_count": 67,
   "metadata": {},
   "outputs": [
    {
     "name": "stdout",
     "output_type": "stream",
     "text": [
      "0.8424486095715691\n"
     ]
    }
   ],
   "source": [
    "print(r2_score(y_test, y_test_pred2))"
   ]
  },
  {
   "cell_type": "markdown",
   "metadata": {},
   "source": [
    "## Conclusion"
   ]
  },
  {
   "cell_type": "markdown",
   "metadata": {},
   "source": [
    "We tested 2 models \n",
    "1. Linear Regression Technique - R square score = 84.2%\n",
    "2. Random Forest Regression Technique - R square score = 90.48%\n",
    "\n",
    "The above R2 scores that our model has been successful in predicting the positions of the players based on the input variable attributes.\n",
    "\n",
    "In this project, we have answered the question that yes, using certain attributes we can be successful in predicting the position of players in FM2020 upto a certain degree of accuracy. We also identified the key attributesin determining the position were:\n",
    "* Goalkeeping Attributes = AerialAbility, CommandOfArea,Communication,Handling,Kicking,OneOnOnes,Reflexes,RushingOut,  TendencyToPunch,Throwing\n",
    "* Height\n",
    "* Passing\n",
    "* Technique\n",
    "* Bravery\n",
    "* Flair\n",
    "* Positioning\n",
    "* Attacking attributes = Dribbling, Finishing, FirstTouch, LongShots"
   ]
  },
  {
   "cell_type": "markdown",
   "metadata": {},
   "source": [
    "### Limitations"
   ]
  },
  {
   "cell_type": "markdown",
   "metadata": {},
   "source": [
    "However, the above implementation of the model in this code was a Regression and not a Classification. \n",
    "\n",
    "You might be wondering, \"Why so?\" and rightly because the aim of this project was to classify a player and assign him one of the available positions.\n",
    "\n",
    "But, in the practical world of football, it is not that a player can play in a single position. He can play in multiple positions and it would become hard for a Classifier to classify the players into a single position. \n",
    "\n",
    "Instead, what we did was assign a value to each position based on the inter-dependence and the relationship between each position. For instance, the central defenders will have similar defensive abilities(and so closer positional index) to defensive midfielders but their attacking prowess will be low. ALso, Attaacking Midfield should have similar positional index to Striker(upper bound) and centra mifield(lower bound).\n",
    "To quantify these indices, we need basic football knowledge and help from online resources of FM like http://footballmanagerblog.org//.\n",
    "\n",
    "So, the predicting model might predict a position close to each other. Like Central Attacking midfielder might be predicted as Left Attacking Midfielder. For this reason, we preferred a regression model over classification."
   ]
  }
 ],
 "metadata": {
  "kernelspec": {
   "display_name": "Python 3",
   "language": "python",
   "name": "python3"
  },
  "language_info": {
   "codemirror_mode": {
    "name": "ipython",
    "version": 3
   },
   "file_extension": ".py",
   "mimetype": "text/x-python",
   "name": "python",
   "nbconvert_exporter": "python",
   "pygments_lexer": "ipython3",
   "version": "3.7.6"
  }
 },
 "nbformat": 4,
 "nbformat_minor": 4
}
